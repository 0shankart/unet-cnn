{
  "cells": [
    {
      "cell_type": "markdown",
      "metadata": {},
      "source": [
        "### Image segmentation using Unet Architecture"
      ]
    },
    {
      "cell_type": "code",
      "execution_count": null,
      "metadata": {
        "id": "1ysE5lp8L5UJ"
      },
      "outputs": [],
      "source": [
        "import glob\n",
        "import numpy as np\n",
        "import nibabel as nib\n",
        "import pydicom\n",
        "from sklearn.model_selection import train_test_split\n",
        "import tensorflow as tf\n",
        "import tensorflow.keras.layers as layers\n",
        "from tensorflow.keras.layers import Add\n",
        "import tensorflow.keras.models as models\n",
        "from tensorflow.keras.initializers import orthogonal\n",
        "from tensorflow.keras.optimizers import Adam\n",
        "import os"
      ]
    },
    {
      "cell_type": "code",
      "execution_count": null,
      "metadata": {
        "colab": {
          "base_uri": "https://localhost:8080/"
        },
        "id": "bfdZ0UdDL-7b",
        "outputId": "c3a1f582-918b-4bad-b4f7-6abaf845c874"
      },
      "outputs": [
        {
          "name": "stdout",
          "output_type": "stream",
          "text": [
            "Mounted at /content/drive\n"
          ]
        }
      ],
      "source": [
        "from google.colab import drive\n",
        "drive.mount('/content/drive', force_remount=True)"
      ]
    },
    {
      "cell_type": "code",
      "execution_count": null,
      "metadata": {
        "colab": {
          "base_uri": "https://localhost:8080/",
          "height": 36
        },
        "id": "d8B3RlEHOVID",
        "outputId": "55d16227-3cda-49ea-bba6-41b0f4c1959b"
      },
      "outputs": [
        {
          "data": {
            "application/vnd.google.colaboratory.intrinsic+json": {
              "type": "string"
            },
            "text/plain": [
              "'/content'"
            ]
          },
          "execution_count": 5,
          "metadata": {},
          "output_type": "execute_result"
        }
      ],
      "source": [
        "os.getcwd()"
      ]
    },
    {
      "cell_type": "code",
      "execution_count": null,
      "metadata": {
        "id": "7JOYxTLZL_2l"
      },
      "outputs": [],
      "source": [
        "from pathlib import Path\n",
        "path = 'your path'\n",
        "os.chdir(path)\n",
        "folders_list = os.listdir(path+'/CT')"
      ]
    },
    {
      "cell_type": "code",
      "execution_count": null,
      "metadata": {
        "id": "rpP52aWcyKWp"
      },
      "outputs": [],
      "source": [
        "def normalize(x):\n",
        "    div = 1 if np.max(x) == 0 else (np.max(x)-np.min(x))\n",
        "    x = (x-np.min(x)) / div\n",
        "    return x"
      ]
    },
    {
      "cell_type": "code",
      "execution_count": null,
      "metadata": {
        "id": "OPdSbXSwyNaO"
      },
      "outputs": [],
      "source": [
        "total_dcms = []\n",
        "total_gts = []\n",
        "import cv2\n",
        "import pandas as pd\n",
        "paths_df = pd.DataFrame(columns = ['dcm_path', 'gt_path'])\n",
        "for folder in folders_list:\n",
        "#for folder in ['27']:\n",
        "    path_1 = os.path.join(os.getcwd(), 'your path', folder)\n",
        "    path_1_CT_folder = os.listdir(os.path.join(path_1, 'DICOM_anon'))\n",
        "    path_1_GT_folder = os.listdir(os.path.join(path_1, 'Ground'))\n",
        "    paths_CT = [str(os.path.join(path_1, 'DICOM_anon', i)) for i in path_1_CT_folder]\n",
        "    paths_GT = [str(os.path.join(path_1, 'Ground', j)) for j in path_1_GT_folder]\n",
        "    \n",
        "    paths_CT.sort()\n",
        "    paths_GT.sort()\n",
        "    \n",
        "    #print(folder, len(paths_CT), len(paths_GT)) \n",
        "    paths_df = paths_df.append(pd.DataFrame({'dcm_path':paths_CT, 'gt_path':paths_GT}), ignore_index = True)"
      ]
    },
    {
      "cell_type": "code",
      "execution_count": null,
      "metadata": {
        "id": "eSJiLxwmybn9"
      },
      "outputs": [],
      "source": [
        "pd.set_option('display.max_colwidth', None)\n",
        "paths_df.iloc[300:305]"
      ]
    },
    {
      "cell_type": "code",
      "execution_count": null,
      "metadata": {
        "id": "9wrY8nGGymGH"
      },
      "outputs": [],
      "source": [
        "import matplotlib.pyplot as plt\n",
        "data_dcms = []\n",
        "data_gts = []\n",
        "\n",
        "ignore = []\n",
        "for index, row in paths_df.iterrows():\n",
        "    sample_ct = pydicom.dcmread(row['dcm_path']).pixel_array\n",
        "    sample_ct_normalized = normalize(sample_ct)\n",
        "    data_dcms.append(sample_ct_normalized)\n",
        "    sample_gt = cv2.imread(row['gt_path'], 0)\n",
        "    sample_gt_normalized = normalize(sample_gt)\n",
        "    data_gts.append(sample_gt_normalized)\n"
      ]
    },
    {
      "cell_type": "code",
      "execution_count": null,
      "metadata": {
        "id": "JZoSmjVdyowS"
      },
      "outputs": [],
      "source": [
        "data_dcms = np.asarray(data_dcms)\n",
        "data_gts = np.asarray(data_gts)"
      ]
    },
    {
      "cell_type": "code",
      "execution_count": null,
      "metadata": {
        "colab": {
          "base_uri": "https://localhost:8080/",
          "height": 286
        },
        "id": "h1UuiZK3UcPF",
        "outputId": "a11a7816-0500-4a10-a64b-6988fb65ebe7"
      },
      "outputs": [
        {
          "data": {
            "text/plain": [
              "<matplotlib.image.AxesImage at 0x7f46653bb8e0>"
            ]
          },
          "execution_count": 12,
          "metadata": {},
          "output_type": "execute_result"
        },
        {
          "data": {
            "image/png": "[encoded data removed]",
            "text/plain": [
              "<Figure size 432x288 with 1 Axes>"
            ]
          },
          "metadata": {
            "needs_background": "light"
          },
          "output_type": "display_data"
        }
      ],
      "source": [
        "import matplotlib.pyplot as plt\n",
        "plt.imshow(data_dcms[970,:,:], cmap='gray')"
      ]
    },
    {
      "cell_type": "code",
      "execution_count": null,
      "metadata": {
        "colab": {
          "base_uri": "https://localhost:8080/"
        },
        "id": "I1Q2VpvcURIL",
        "outputId": "56d1e82d-c589-468d-f37c-30455bc4a0f8"
      },
      "outputs": [
        {
          "data": {
            "text/plain": [
              "(972, 512, 512)"
            ]
          },
          "execution_count": 12,
          "metadata": {},
          "output_type": "execute_result"
        }
      ],
      "source": [
        "data_gts = np.concatenate((data_gts_01, data_gts_02), axis=0)\n",
        "data_gts.shape"
      ]
    },
    {
      "cell_type": "code",
      "execution_count": null,
      "metadata": {
        "colab": {
          "base_uri": "https://localhost:8080/",
          "height": 286
        },
        "id": "xR-_lm50UouG",
        "outputId": "b43c413a-870d-404c-a805-ad0db007cd39"
      },
      "outputs": [
        {
          "data": {
            "text/plain": [
              "<matplotlib.image.AxesImage at 0x7efe528099d0>"
            ]
          },
          "execution_count": 14,
          "metadata": {},
          "output_type": "execute_result"
        },
        {
          "data": {
            "image/png": "[encoded data removed]",
            "text/plain": [
              "<Figure size 432x288 with 1 Axes>"
            ]
          },
          "metadata": {
            "needs_background": "light"
          },
          "output_type": "display_data"
        }
      ],
      "source": [
        "import matplotlib.pyplot as plt\n",
        "plt.imshow(data_gts[970,:,:], cmap='gray')"
      ]
    },
    {
      "cell_type": "code",
      "execution_count": null,
      "metadata": {
        "colab": {
          "base_uri": "https://localhost:8080/",
          "height": 286
        },
        "id": "uQjVv8r4V9Jp",
        "outputId": "4bbe2d81-a3bb-4e78-8c53-e226d5bf79a0"
      },
      "outputs": [
        {
          "data": {
            "text/plain": [
              "<matplotlib.image.AxesImage at 0x7efe5234f550>"
            ]
          },
          "execution_count": 15,
          "metadata": {},
          "output_type": "execute_result"
        },
        {
          "data": {
            "image/png": "[encoded data removed]",
            "text/plain": [
              "<Figure size 432x288 with 1 Axes>"
            ]
          },
          "metadata": {
            "needs_background": "light"
          },
          "output_type": "display_data"
        }
      ],
      "source": [
        "test_samples = data_dcms[950:,:,:]\n",
        "test_samples.shape\n",
        "plt.imshow(test_samples[0,:,:], cmap='gray')"
      ]
    },
    {
      "cell_type": "code",
      "execution_count": null,
      "metadata": {
        "colab": {
          "base_uri": "https://localhost:8080/",
          "height": 286
        },
        "id": "Ts_wWzLUWQUB",
        "outputId": "d4da56fc-1253-4c59-be41-9b106186f154"
      },
      "outputs": [
        {
          "data": {
            "text/plain": [
              "<matplotlib.image.AxesImage at 0x7efe52324c10>"
            ]
          },
          "execution_count": 16,
          "metadata": {},
          "output_type": "execute_result"
        },
        {
          "data": {
            "image/png": "[encoded data removed]",
            "text/plain": [
              "<Figure size 432x288 with 1 Axes>"
            ]
          },
          "metadata": {
            "needs_background": "light"
          },
          "output_type": "display_data"
        }
      ],
      "source": [
        "test_gts = data_gts[950:,:,:]\n",
        "test_gts.shape\n",
        "plt.imshow(test_gts[0,:,:], cmap='gray')"
      ]
    },
    {
      "cell_type": "code",
      "execution_count": null,
      "metadata": {
        "id": "tsCtquOkXMDA"
      },
      "outputs": [],
      "source": [
        "data_dcms = data_dcms[0:950,:,:]\n",
        "data_gts = data_gts[0:950,:,:]"
      ]
    },
    {
      "cell_type": "code",
      "execution_count": null,
      "metadata": {
        "colab": {
          "base_uri": "https://localhost:8080/"
        },
        "id": "ggBMvpieYObp",
        "outputId": "e3590027-54f9-4b1f-803c-3bddb7a2976e"
      },
      "outputs": [
        {
          "name": "stdout",
          "output_type": "stream",
          "text": [
            "dcms shape (950, 512, 512)\n",
            "gts shape (950, 512, 512)\n"
          ]
        }
      ],
      "source": [
        "print('dcms shape',data_dcms.shape)\n",
        "print('gts shape', data_gts.shape)"
      ]
    },
    {
      "cell_type": "code",
      "execution_count": null,
      "metadata": {
        "id": "PHLNkLYLMAjS"
      },
      "outputs": [],
      "source": [
        "data_dcms = np.expand_dims(data_dcms, axis=-1)\n",
        "data_gts = np.expand_dims(data_gts, axis=-1)"
      ]
    },
    {
      "cell_type": "code",
      "execution_count": null,
      "metadata": {
        "colab": {
          "base_uri": "https://localhost:8080/"
        },
        "id": "SwXBUZwJMAzH",
        "outputId": "95c67c2b-a8a2-4fac-cfa5-8a7f72462a89"
      },
      "outputs": [
        {
          "name": "stdout",
          "output_type": "stream",
          "text": [
            "shape of dicom data: (950, 512, 512, 1)\n",
            "shape of groud truth data: (950, 512, 512, 1)\n"
          ]
        }
      ],
      "source": [
        "print(f\"shape of dicom data: {data_dcms.shape}\")\n",
        "print(f\"shape of groud truth data: {data_gts.shape}\")"
      ]
    },
    {
      "cell_type": "code",
      "execution_count": null,
      "metadata": {
        "id": "-GmyHPFmMA8E"
      },
      "outputs": [],
      "source": [
        "X_train, X_test, y_train, y_test = train_test_split(data_dcms, data_gts , test_size=0.2)"
      ]
    },
    {
      "cell_type": "code",
      "execution_count": null,
      "metadata": {
        "colab": {
          "base_uri": "https://localhost:8080/"
        },
        "id": "JI9ecyxPMBL_",
        "outputId": "feee2ad4-6a00-45f9-a04a-4a5df45dda03"
      },
      "outputs": [
        {
          "name": "stdout",
          "output_type": "stream",
          "text": [
            "X_train shape is (760, 512, 512, 1)\n",
            "X_test shape is (190, 512, 512, 1)\n",
            "y_train shape is (760, 512, 512, 1)\n",
            "y_test shape is (190, 512, 512, 1)\n"
          ]
        }
      ],
      "source": [
        "print(f\"X_train shape is {X_train.shape}\")\n",
        "print(f\"X_test shape is {X_test.shape}\")\n",
        "print(f\"y_train shape is {y_train.shape}\")\n",
        "print(f\"y_test shape is {y_test.shape}\")"
      ]
    },
    {
      "cell_type": "code",
      "execution_count": null,
      "metadata": {
        "id": "vvXep7X2Mbrm"
      },
      "outputs": [],
      "source": [
        "def ConvolutionLayer(x, filters, kernel, strides, padding, block_id, kernel_init=orthogonal()):\n",
        "    prefix = f'block_{block_id}_'\n",
        "\n",
        "    x = layers.Conv2D(filters, kernel_size=kernel, strides=strides, padding=padding,\n",
        "                      kernel_initializer=kernel_init, name=prefix+'conv')(x)\n",
        "\n",
        "    #x = layers.MaxPooling2D(pool_size=(2,2), strides=(1,1))(x)\n",
        "\n",
        "    x = layers.ReLU(name=prefix+'relu')(x)\n",
        "    x = layers.Dropout(0.2, name=prefix+'drop')((x))\n",
        "    x = layers.BatchNormalization(name=prefix+'conv_bn')(x)\n",
        "    return x"
      ]
    },
    {
      "cell_type": "code",
      "execution_count": null,
      "metadata": {
        "id": "to-uQSj2Mb-y"
      },
      "outputs": [],
      "source": [
        "def upsamplingLayer(x, filters, kernel, strides, padding, block_id, kernel_init=orthogonal()):\n",
        "    prefix = f'block_{block_id}_'\n",
        "\n",
        "    x = layers.Conv2DTranspose(filters, kernel_size=kernel, strides=strides, padding=padding,\n",
        "                               kernel_initializer=kernel_init, name=prefix+'de-conv')(x)\n",
        "\n",
        "    x = layers.ReLU(name=prefix+'relu')(x)\n",
        "    x = layers.Dropout(0.2, name=prefix+'drop')((x))\n",
        "    x = layers.BatchNormalization(name=prefix+'conv_bn')(x)\n",
        "    return x"
      ]
    },
    {
      "cell_type": "code",
      "execution_count": null,
      "metadata": {
        "id": "oX8Z47CXMcOP"
      },
      "outputs": [],
      "source": [
        "def segModel(input_shape):\n",
        "    inputs = layers.Input(shape=input_shape)\n",
        "    \n",
        "    #downsample\n",
        "\n",
        "    conv1 = ConvolutionLayer(inputs, 64, 3, strides=1, padding='same', block_id=1)\n",
        "\n",
        "    mp = layers.MaxPooling2D(pool_size=(2,2), strides=(1,1))\n",
        "\n",
        "    mp1 = mp(conv1)\n",
        "\n",
        "    conv2 = ConvolutionLayer(mp1, 64, 3, strides=2, padding='same', block_id=2)\n",
        "\n",
        "    conv3 = ConvolutionLayer(conv2, 128, 5, strides=2, padding='same', block_id=3)\n",
        "\n",
        "    mp2 = layers.MaxPooling2D(pool_size=(2,2), strides=(1,1))\n",
        "\n",
        "    mp3 = mp(conv3)\n",
        "\n",
        "    conv4 = ConvolutionLayer(mp3, 128, 3, strides=1, padding='same', block_id=4)\n",
        "    \n",
        "    conv5 = ConvolutionLayer(conv4, 256, 5, strides=2, padding='same', block_id=5)\n",
        "    \n",
        "    conv6 = ConvolutionLayer(conv5, 512, 3, strides=2, padding='same', block_id=6)\n",
        "    \n",
        "    \n",
        "    #upsampling including convolution operation (plus skip connections)\n",
        "    upsamp1 = upsamplingLayer(conv6, 512, 3, strides=2, padding='same', block_id=7)\n",
        "    \n",
        "    skip1 = layers.concatenate([upsamp1, conv5], name = 'skip_1')\n",
        "    \n",
        "    conv7 = ConvolutionLayer(skip1, 256, 3, strides=1, padding='same', block_id=8)\n",
        "    \n",
        "    upsamp2 = upsamplingLayer(conv7, 128, 3, strides=2, padding='same', block_id=9)\n",
        "    \n",
        "    skip2 = layers.concatenate([upsamp2, conv3], name='skip_2')\n",
        "    \n",
        "    conv8 = ConvolutionLayer(skip2, 128, 5, strides=1, padding='same', block_id=10)\n",
        "    \n",
        "    upsamp3 = upsamplingLayer(conv8, 64, 3, strides=2, padding='same', block_id=11)\n",
        "    \n",
        "    skip3 = layers.concatenate([upsamp3, conv2], name='skip_3')\n",
        "    \n",
        "    conv9 = ConvolutionLayer(skip3, 64, 5, strides=1, padding='same', block_id=12)\n",
        "    \n",
        "    upsamp4 = upsamplingLayer(conv9, 64, 3, strides=2, padding='same', block_id=13)\n",
        "    \n",
        "    skip4 = layers.concatenate([upsamp4, conv1], name='skip_4')\n",
        "\n",
        "    #mp2 = layers.MaxPooling2D(pool_size=(2,2), strides=(1,1))\n",
        "\n",
        "    #mp3 = mp2(skip4)\n",
        "    \n",
        "    conv10 = layers.Conv2D(1, 3, strides=1, padding='same', activation='sigmoid',\n",
        "                       kernel_initializer=orthogonal(), name='final_conv')(skip4)\n",
        "\n",
        "    return models.Model(inputs=inputs, outputs=conv10)"
      ]
    },
    {
      "cell_type": "code",
      "execution_count": null,
      "metadata": {
        "colab": {
          "base_uri": "https://localhost:8080/"
        },
        "id": "NvnLrRtzMcgl",
        "outputId": "d9e08435-3228-4cfb-801e-91d02b941db3"
      },
      "outputs": [
        {
          "name": "stderr",
          "output_type": "stream",
          "text": [
            "Using TensorFlow backend.\n"
          ]
        }
      ],
      "source": [
        "from keras import backend as K\n",
        "def dice_coef(y_true, y_pred, smooth=1):\n",
        "    y_true_f = K.flatten(y_true)\n",
        "    y_pred_f = K.flatten(y_pred)\n",
        "    intersection = K.sum(y_true_f * y_pred_f)\n",
        "    return (2. * intersection + smooth) / (K.sum(y_true_f + K.sum(y_pred_f))+ smooth)"
      ]
    },
    {
      "cell_type": "code",
      "execution_count": null,
      "metadata": {
        "id": "_JALsjRKMcy7"
      },
      "outputs": [],
      "source": [
        "input_shape =  (512, 512)  # shape of the sample\n",
        "model = segModel((*input_shape, 1))\n",
        "model_optimizer = Adam(learning_rate=0.002)"
      ]
    },
    {
      "cell_type": "code",
      "execution_count": null,
      "metadata": {
        "colab": {
          "base_uri": "https://localhost:8080/"
        },
        "id": "qvczdSovMc-p",
        "outputId": "69f84fee-1306-4800-ad7c-03e894db1e7f"
      },
      "outputs": [
        {
          "name": "stdout",
          "output_type": "stream",
          "text": [
            "Model: \"model\"\n",
            "__________________________________________________________________________________________________\n",
            "Layer (type)                    Output Shape         Param #     Connected to                     \n",
            "==================================================================================================\n",
            "input_1 (InputLayer)            [(None, 512, 512, 1) 0                                            \n",
            "__________________________________________________________________________________________________\n",
            "block_1_conv (Conv2D)           (None, 512, 512, 64) 640         input_1[0][0]                    \n",
            "__________________________________________________________________________________________________\n",
            "block_1_relu (ReLU)             (None, 512, 512, 64) 0           block_1_conv[0][0]               \n",
            "__________________________________________________________________________________________________\n",
            "block_1_drop (Dropout)          (None, 512, 512, 64) 0           block_1_relu[0][0]               \n",
            "__________________________________________________________________________________________________\n",
            "block_1_conv_bn (BatchNormaliza (None, 512, 512, 64) 256         block_1_drop[0][0]               \n",
            "__________________________________________________________________________________________________\n",
            "max_pooling2d (MaxPooling2D)    multiple             0           block_1_conv_bn[0][0]            \n",
            "                                                                 block_3_conv_bn[0][0]            \n",
            "__________________________________________________________________________________________________\n",
            "block_2_conv (Conv2D)           (None, 256, 256, 64) 36928       max_pooling2d[0][0]              \n",
            "__________________________________________________________________________________________________\n",
            "block_2_relu (ReLU)             (None, 256, 256, 64) 0           block_2_conv[0][0]               \n",
            "__________________________________________________________________________________________________\n",
            "block_2_drop (Dropout)          (None, 256, 256, 64) 0           block_2_relu[0][0]               \n",
            "__________________________________________________________________________________________________\n",
            "block_2_conv_bn (BatchNormaliza (None, 256, 256, 64) 256         block_2_drop[0][0]               \n",
            "__________________________________________________________________________________________________\n",
            "block_3_conv (Conv2D)           (None, 128, 128, 128 204928      block_2_conv_bn[0][0]            \n",
            "__________________________________________________________________________________________________\n",
            "block_3_relu (ReLU)             (None, 128, 128, 128 0           block_3_conv[0][0]               \n",
            "__________________________________________________________________________________________________\n",
            "block_3_drop (Dropout)          (None, 128, 128, 128 0           block_3_relu[0][0]               \n",
            "__________________________________________________________________________________________________\n",
            "block_3_conv_bn (BatchNormaliza (None, 128, 128, 128 512         block_3_drop[0][0]               \n",
            "__________________________________________________________________________________________________\n",
            "block_4_conv (Conv2D)           (None, 127, 127, 128 147584      max_pooling2d[1][0]              \n",
            "__________________________________________________________________________________________________\n",
            "block_4_relu (ReLU)             (None, 127, 127, 128 0           block_4_conv[0][0]               \n",
            "__________________________________________________________________________________________________\n",
            "block_4_drop (Dropout)          (None, 127, 127, 128 0           block_4_relu[0][0]               \n",
            "__________________________________________________________________________________________________\n",
            "block_4_conv_bn (BatchNormaliza (None, 127, 127, 128 512         block_4_drop[0][0]               \n",
            "__________________________________________________________________________________________________\n",
            "block_5_conv (Conv2D)           (None, 64, 64, 256)  819456      block_4_conv_bn[0][0]            \n",
            "__________________________________________________________________________________________________\n",
            "block_5_relu (ReLU)             (None, 64, 64, 256)  0           block_5_conv[0][0]               \n",
            "__________________________________________________________________________________________________\n",
            "block_5_drop (Dropout)          (None, 64, 64, 256)  0           block_5_relu[0][0]               \n",
            "__________________________________________________________________________________________________\n",
            "block_5_conv_bn (BatchNormaliza (None, 64, 64, 256)  1024        block_5_drop[0][0]               \n",
            "__________________________________________________________________________________________________\n",
            "block_6_conv (Conv2D)           (None, 32, 32, 512)  1180160     block_5_conv_bn[0][0]            \n",
            "__________________________________________________________________________________________________\n",
            "block_6_relu (ReLU)             (None, 32, 32, 512)  0           block_6_conv[0][0]               \n",
            "__________________________________________________________________________________________________\n",
            "block_6_drop (Dropout)          (None, 32, 32, 512)  0           block_6_relu[0][0]               \n",
            "__________________________________________________________________________________________________\n",
            "block_6_conv_bn (BatchNormaliza (None, 32, 32, 512)  2048        block_6_drop[0][0]               \n",
            "__________________________________________________________________________________________________\n",
            "block_7_de-conv (Conv2DTranspos (None, 64, 64, 512)  2359808     block_6_conv_bn[0][0]            \n",
            "__________________________________________________________________________________________________\n",
            "block_7_relu (ReLU)             (None, 64, 64, 512)  0           block_7_de-conv[0][0]            \n",
            "__________________________________________________________________________________________________\n",
            "block_7_drop (Dropout)          (None, 64, 64, 512)  0           block_7_relu[0][0]               \n",
            "__________________________________________________________________________________________________\n",
            "block_7_conv_bn (BatchNormaliza (None, 64, 64, 512)  2048        block_7_drop[0][0]               \n",
            "__________________________________________________________________________________________________\n",
            "skip_1 (Concatenate)            (None, 64, 64, 768)  0           block_7_conv_bn[0][0]            \n",
            "                                                                 block_5_conv_bn[0][0]            \n",
            "__________________________________________________________________________________________________\n",
            "block_8_conv (Conv2D)           (None, 64, 64, 256)  1769728     skip_1[0][0]                     \n",
            "__________________________________________________________________________________________________\n",
            "block_8_relu (ReLU)             (None, 64, 64, 256)  0           block_8_conv[0][0]               \n",
            "__________________________________________________________________________________________________\n",
            "block_8_drop (Dropout)          (None, 64, 64, 256)  0           block_8_relu[0][0]               \n",
            "__________________________________________________________________________________________________\n",
            "block_8_conv_bn (BatchNormaliza (None, 64, 64, 256)  1024        block_8_drop[0][0]               \n",
            "__________________________________________________________________________________________________\n",
            "block_9_de-conv (Conv2DTranspos (None, 128, 128, 128 295040      block_8_conv_bn[0][0]            \n",
            "__________________________________________________________________________________________________\n",
            "block_9_relu (ReLU)             (None, 128, 128, 128 0           block_9_de-conv[0][0]            \n",
            "__________________________________________________________________________________________________\n",
            "block_9_drop (Dropout)          (None, 128, 128, 128 0           block_9_relu[0][0]               \n",
            "__________________________________________________________________________________________________\n",
            "block_9_conv_bn (BatchNormaliza (None, 128, 128, 128 512         block_9_drop[0][0]               \n",
            "__________________________________________________________________________________________________\n",
            "skip_2 (Concatenate)            (None, 128, 128, 256 0           block_9_conv_bn[0][0]            \n",
            "                                                                 block_3_conv_bn[0][0]            \n",
            "__________________________________________________________________________________________________\n",
            "block_10_conv (Conv2D)          (None, 128, 128, 128 819328      skip_2[0][0]                     \n",
            "__________________________________________________________________________________________________\n",
            "block_10_relu (ReLU)            (None, 128, 128, 128 0           block_10_conv[0][0]              \n",
            "__________________________________________________________________________________________________\n",
            "block_10_drop (Dropout)         (None, 128, 128, 128 0           block_10_relu[0][0]              \n",
            "__________________________________________________________________________________________________\n",
            "block_10_conv_bn (BatchNormaliz (None, 128, 128, 128 512         block_10_drop[0][0]              \n",
            "__________________________________________________________________________________________________\n",
            "block_11_de-conv (Conv2DTranspo (None, 256, 256, 64) 73792       block_10_conv_bn[0][0]           \n",
            "__________________________________________________________________________________________________\n",
            "block_11_relu (ReLU)            (None, 256, 256, 64) 0           block_11_de-conv[0][0]           \n",
            "__________________________________________________________________________________________________\n",
            "block_11_drop (Dropout)         (None, 256, 256, 64) 0           block_11_relu[0][0]              \n",
            "__________________________________________________________________________________________________\n",
            "block_11_conv_bn (BatchNormaliz (None, 256, 256, 64) 256         block_11_drop[0][0]              \n",
            "__________________________________________________________________________________________________\n",
            "skip_3 (Concatenate)            (None, 256, 256, 128 0           block_11_conv_bn[0][0]           \n",
            "                                                                 block_2_conv_bn[0][0]            \n",
            "__________________________________________________________________________________________________\n",
            "block_12_conv (Conv2D)          (None, 256, 256, 64) 204864      skip_3[0][0]                     \n",
            "__________________________________________________________________________________________________\n",
            "block_12_relu (ReLU)            (None, 256, 256, 64) 0           block_12_conv[0][0]              \n",
            "__________________________________________________________________________________________________\n",
            "block_12_drop (Dropout)         (None, 256, 256, 64) 0           block_12_relu[0][0]              \n",
            "__________________________________________________________________________________________________\n",
            "block_12_conv_bn (BatchNormaliz (None, 256, 256, 64) 256         block_12_drop[0][0]              \n",
            "__________________________________________________________________________________________________\n",
            "block_13_de-conv (Conv2DTranspo (None, 512, 512, 64) 36928       block_12_conv_bn[0][0]           \n",
            "__________________________________________________________________________________________________\n",
            "block_13_relu (ReLU)            (None, 512, 512, 64) 0           block_13_de-conv[0][0]           \n",
            "__________________________________________________________________________________________________\n",
            "block_13_drop (Dropout)         (None, 512, 512, 64) 0           block_13_relu[0][0]              \n",
            "__________________________________________________________________________________________________\n",
            "block_13_conv_bn (BatchNormaliz (None, 512, 512, 64) 256         block_13_drop[0][0]              \n",
            "__________________________________________________________________________________________________\n",
            "skip_4 (Concatenate)            (None, 512, 512, 128 0           block_13_conv_bn[0][0]           \n",
            "                                                                 block_1_conv_bn[0][0]            \n",
            "__________________________________________________________________________________________________\n",
            "final_conv (Conv2D)             (None, 512, 512, 1)  1153        skip_4[0][0]                     \n",
            "==================================================================================================\n",
            "Total params: 7,959,809\n",
            "Trainable params: 7,955,073\n",
            "Non-trainable params: 4,736\n",
            "__________________________________________________________________________________________________\n"
          ]
        }
      ],
      "source": [
        "#def meaniou():\n",
        "#  return tf.keras.metrics.MeanIoU(num_classes=2)\n",
        "meaniou = tf.keras.metrics.MeanIoU(num_classes=2)\n",
        "model.compile(optimizer=model_optimizer, loss='binary_crossentropy', metrics=[meaniou])#\n",
        "model.summary()"
      ]
    },
    {
      "cell_type": "code",
      "execution_count": null,
      "metadata": {
        "id": "aTu-sMjlMwWd"
      },
      "outputs": [],
      "source": [
        "Path_MODELSAVE = 'saved_models_mou_05'\n",
        "Path_LOGS = 'logs_mou_05'\n",
        "for i in [Path_MODELSAVE, Path_LOGS]:\n",
        "    if i not in os.listdir(os.getcwd()):\n",
        "        os.mkdir(i)"
      ]
    },
    {
      "cell_type": "code",
      "execution_count": null,
      "metadata": {
        "id": "gUQ4B9l_Mwd6"
      },
      "outputs": [],
      "source": [
        "epochs = 500\n",
        "batch_size = 20\n",
        "saved_weight = os.path.join(Path_MODELSAVE, 'dataweights.{epoch:02d}-{meaniou:.2f}.hdf5')"
      ]
    },
    {
      "cell_type": "code",
      "execution_count": null,
      "metadata": {
        "colab": {
          "base_uri": "https://localhost:8080/"
        },
        "id": "aTVcEB0OMwll",
        "outputId": "e41c80d6-5cdf-4067-9ed0-6b1b3dbad9fb"
      },
      "outputs": [
        {
          "name": "stderr",
          "output_type": "stream",
          "text": [
            "WARNING:tensorflow:`period` argument is deprecated. Please use `save_freq` to specify the frequency in number of batches seen.\n"
          ]
        },
        {
          "name": "stdout",
          "output_type": "stream",
          "text": [
            "Epoch 1/500\n",
            "38/38 [==============================] - 35s 494ms/step - loss: 0.4297 - mean_io_u: 0.4607 - val_loss: 6.3431 - val_mean_io_u: 0.4577\n",
            "Epoch 2/500\n",
            "38/38 [==============================] - 15s 399ms/step - loss: 0.1202 - mean_io_u: 0.4607 - val_loss: 12.4705 - val_mean_io_u: 0.2953\n",
            "Epoch 3/500\n",
            "38/38 [==============================] - 15s 400ms/step - loss: 0.0939 - mean_io_u: 0.4608 - val_loss: 0.5843 - val_mean_io_u: 0.4628\n",
            "Epoch 4/500\n",
            "38/38 [==============================] - 15s 399ms/step - loss: 0.0882 - mean_io_u: 0.4607 - val_loss: 0.6755 - val_mean_io_u: 0.4628\n",
            "Epoch 5/500\n",
            "38/38 [==============================] - 15s 399ms/step - loss: 0.0974 - mean_io_u: 0.4607 - val_loss: 0.7176 - val_mean_io_u: 0.4628\n",
            "Epoch 6/500\n",
            "38/38 [==============================] - 15s 399ms/step - loss: 0.0897 - mean_io_u: 0.4607 - val_loss: 0.7068 - val_mean_io_u: 0.4628\n",
            "Epoch 7/500\n",
            "38/38 [==============================] - 15s 399ms/step - loss: 0.0758 - mean_io_u: 0.4607 - val_loss: 0.6608 - val_mean_io_u: 0.4628\n",
            "Epoch 8/500\n",
            "38/38 [==============================] - 15s 399ms/step - loss: 0.0628 - mean_io_u: 0.4607 - val_loss: 0.5577 - val_mean_io_u: 0.4628\n",
            "Epoch 9/500\n",
            "38/38 [==============================] - 15s 399ms/step - loss: 0.0672 - mean_io_u: 0.4607 - val_loss: 0.6274 - val_mean_io_u: 0.4628\n",
            "Epoch 10/500\n",
            "38/38 [==============================] - 15s 399ms/step - loss: 0.0554 - mean_io_u: 0.4607 - val_loss: 0.6106 - val_mean_io_u: 0.4628\n",
            "Epoch 11/500\n",
            "38/38 [==============================] - 15s 399ms/step - loss: 0.0576 - mean_io_u: 0.4607 - val_loss: 0.7379 - val_mean_io_u: 0.4628\n",
            "Epoch 12/500\n",
            "38/38 [==============================] - 15s 400ms/step - loss: 0.0490 - mean_io_u: 0.4607 - val_loss: 0.6396 - val_mean_io_u: 0.4628\n",
            "Epoch 13/500\n",
            "38/38 [==============================] - 15s 399ms/step - loss: 0.0418 - mean_io_u: 0.4607 - val_loss: 0.7329 - val_mean_io_u: 0.4628\n",
            "Epoch 14/500\n",
            "38/38 [==============================] - 15s 399ms/step - loss: 0.0403 - mean_io_u: 0.4607 - val_loss: 0.6840 - val_mean_io_u: 0.4628\n",
            "Epoch 15/500\n",
            "38/38 [==============================] - 15s 400ms/step - loss: 0.0340 - mean_io_u: 0.4607 - val_loss: 0.7163 - val_mean_io_u: 0.4628\n",
            "Epoch 16/500\n",
            "38/38 [==============================] - 15s 400ms/step - loss: 0.0310 - mean_io_u: 0.4607 - val_loss: 0.6715 - val_mean_io_u: 0.4628\n",
            "Epoch 17/500\n",
            "38/38 [==============================] - 15s 399ms/step - loss: 0.0292 - mean_io_u: 0.4607 - val_loss: 0.7290 - val_mean_io_u: 0.4628\n",
            "Epoch 18/500\n",
            "38/38 [==============================] - 15s 400ms/step - loss: 0.0249 - mean_io_u: 0.4609 - val_loss: 0.5579 - val_mean_io_u: 0.4628\n",
            "Epoch 19/500\n",
            "38/38 [==============================] - 15s 399ms/step - loss: 0.0257 - mean_io_u: 0.4609 - val_loss: 0.6312 - val_mean_io_u: 0.4628\n",
            "Epoch 20/500\n",
            "38/38 [==============================] - 15s 399ms/step - loss: 0.0223 - mean_io_u: 0.4610 - val_loss: 0.5445 - val_mean_io_u: 0.4628\n",
            "Epoch 21/500\n",
            "38/38 [==============================] - 15s 399ms/step - loss: 0.0196 - mean_io_u: 0.4612 - val_loss: 0.3643 - val_mean_io_u: 0.4628\n",
            "Epoch 22/500\n",
            "38/38 [==============================] - 15s 399ms/step - loss: 0.0188 - mean_io_u: 0.4612 - val_loss: 0.6196 - val_mean_io_u: 0.4628\n",
            "Epoch 23/500\n",
            "38/38 [==============================] - 15s 398ms/step - loss: 0.0269 - mean_io_u: 0.4621 - val_loss: 0.6512 - val_mean_io_u: 0.4628\n",
            "Epoch 24/500\n",
            "38/38 [==============================] - 15s 399ms/step - loss: 0.0195 - mean_io_u: 0.4608 - val_loss: 0.3983 - val_mean_io_u: 0.4628\n",
            "Epoch 25/500\n",
            "38/38 [==============================] - 15s 398ms/step - loss: 0.0168 - mean_io_u: 0.4627 - val_loss: 0.2858 - val_mean_io_u: 0.4628\n",
            "Epoch 26/500\n",
            "38/38 [==============================] - 15s 398ms/step - loss: 0.0155 - mean_io_u: 0.4646 - val_loss: 0.3046 - val_mean_io_u: 0.4628\n",
            "Epoch 27/500\n",
            "38/38 [==============================] - 15s 399ms/step - loss: 0.0140 - mean_io_u: 0.4652 - val_loss: 0.1199 - val_mean_io_u: 0.4694\n",
            "Epoch 28/500\n",
            "38/38 [==============================] - 15s 398ms/step - loss: 0.0114 - mean_io_u: 0.4691 - val_loss: 0.1892 - val_mean_io_u: 0.4628\n",
            "Epoch 29/500\n",
            "38/38 [==============================] - 15s 398ms/step - loss: 0.0122 - mean_io_u: 0.4747 - val_loss: 0.5447 - val_mean_io_u: 0.4628\n",
            "Epoch 30/500\n",
            "38/38 [==============================] - 15s 398ms/step - loss: 0.0118 - mean_io_u: 0.4709 - val_loss: 0.1269 - val_mean_io_u: 0.4628\n",
            "Epoch 31/500\n",
            "38/38 [==============================] - 15s 398ms/step - loss: 0.0105 - mean_io_u: 0.4749 - val_loss: 0.1422 - val_mean_io_u: 0.4833\n",
            "Epoch 32/500\n",
            "38/38 [==============================] - 15s 398ms/step - loss: 0.0097 - mean_io_u: 0.4803 - val_loss: 0.4853 - val_mean_io_u: 0.4628\n",
            "Epoch 33/500\n",
            "38/38 [==============================] - 15s 398ms/step - loss: 0.0094 - mean_io_u: 0.4842 - val_loss: 0.0533 - val_mean_io_u: 0.4655\n",
            "Epoch 34/500\n",
            "38/38 [==============================] - 15s 398ms/step - loss: 0.0095 - mean_io_u: 0.4799 - val_loss: 0.0671 - val_mean_io_u: 0.4630\n",
            "Epoch 35/500\n",
            "38/38 [==============================] - 15s 399ms/step - loss: 0.0084 - mean_io_u: 0.4866 - val_loss: 0.1209 - val_mean_io_u: 0.4773\n",
            "Epoch 36/500\n",
            "38/38 [==============================] - 15s 398ms/step - loss: 0.0080 - mean_io_u: 0.4964 - val_loss: 0.0337 - val_mean_io_u: 0.4633\n",
            "Epoch 37/500\n",
            "38/38 [==============================] - 15s 399ms/step - loss: 0.0082 - mean_io_u: 0.4986 - val_loss: 0.0418 - val_mean_io_u: 0.4670\n",
            "Epoch 38/500\n",
            "38/38 [==============================] - 15s 399ms/step - loss: 0.0083 - mean_io_u: 0.5048 - val_loss: 0.0418 - val_mean_io_u: 0.4707\n",
            "Epoch 39/500\n",
            "38/38 [==============================] - 15s 398ms/step - loss: 0.0078 - mean_io_u: 0.5066 - val_loss: 0.0552 - val_mean_io_u: 0.4637\n",
            "Epoch 40/500\n",
            "38/38 [==============================] - 15s 398ms/step - loss: 0.0077 - mean_io_u: 0.5107 - val_loss: 0.0351 - val_mean_io_u: 0.4638\n",
            "Epoch 41/500\n",
            "38/38 [==============================] - 15s 398ms/step - loss: 0.0072 - mean_io_u: 0.5126 - val_loss: 0.0542 - val_mean_io_u: 0.4930\n",
            "Epoch 42/500\n",
            "38/38 [==============================] - 15s 399ms/step - loss: 0.0076 - mean_io_u: 0.5168 - val_loss: 0.0971 - val_mean_io_u: 0.5664\n",
            "Epoch 43/500\n",
            "38/38 [==============================] - 15s 399ms/step - loss: 0.0073 - mean_io_u: 0.5202 - val_loss: 0.0320 - val_mean_io_u: 0.4808\n",
            "Epoch 44/500\n",
            "38/38 [==============================] - 15s 398ms/step - loss: 0.0079 - mean_io_u: 0.5198 - val_loss: 0.2246 - val_mean_io_u: 0.6819\n",
            "Epoch 45/500\n",
            "38/38 [==============================] - 15s 398ms/step - loss: 0.0076 - mean_io_u: 0.5115 - val_loss: 0.1310 - val_mean_io_u: 0.6051\n",
            "Epoch 46/500\n",
            "38/38 [==============================] - 15s 398ms/step - loss: 0.0072 - mean_io_u: 0.5170 - val_loss: 0.0729 - val_mean_io_u: 0.4694\n",
            "Epoch 47/500\n",
            "38/38 [==============================] - 15s 398ms/step - loss: 0.0071 - mean_io_u: 0.5145 - val_loss: 0.1576 - val_mean_io_u: 0.4776\n",
            "Epoch 48/500\n",
            "38/38 [==============================] - 15s 398ms/step - loss: 0.0079 - mean_io_u: 0.5242 - val_loss: 0.0143 - val_mean_io_u: 0.5983\n",
            "Epoch 49/500\n",
            "38/38 [==============================] - 15s 398ms/step - loss: 0.0074 - mean_io_u: 0.5226 - val_loss: 0.0810 - val_mean_io_u: 0.5202\n",
            "Epoch 50/500\n",
            "38/38 [==============================] - 15s 398ms/step - loss: 0.0146 - mean_io_u: 0.4874 - val_loss: 0.1421 - val_mean_io_u: 0.5830\n",
            "Epoch 51/500\n",
            "38/38 [==============================] - 15s 399ms/step - loss: 0.0085 - mean_io_u: 0.4689 - val_loss: 0.0829 - val_mean_io_u: 0.4830\n",
            "Epoch 52/500\n",
            "38/38 [==============================] - 15s 398ms/step - loss: 0.0067 - mean_io_u: 0.4822 - val_loss: 0.0885 - val_mean_io_u: 0.4849\n",
            "Epoch 53/500\n",
            "38/38 [==============================] - 15s 398ms/step - loss: 0.0061 - mean_io_u: 0.4985 - val_loss: 0.0805 - val_mean_io_u: 0.4635\n",
            "Epoch 54/500\n",
            "38/38 [==============================] - 15s 398ms/step - loss: 0.0058 - mean_io_u: 0.5176 - val_loss: 0.0681 - val_mean_io_u: 0.4707\n",
            "Epoch 55/500\n",
            "38/38 [==============================] - 15s 398ms/step - loss: 0.0058 - mean_io_u: 0.5320 - val_loss: 0.1247 - val_mean_io_u: 0.5220\n",
            "Epoch 56/500\n",
            "38/38 [==============================] - 15s 398ms/step - loss: 0.0056 - mean_io_u: 0.5409 - val_loss: 0.0498 - val_mean_io_u: 0.4759\n",
            "Epoch 57/500\n",
            "38/38 [==============================] - 15s 398ms/step - loss: 0.0054 - mean_io_u: 0.5540 - val_loss: 0.0480 - val_mean_io_u: 0.4911\n",
            "Epoch 58/500\n",
            "38/38 [==============================] - 15s 399ms/step - loss: 0.0051 - mean_io_u: 0.5689 - val_loss: 0.0329 - val_mean_io_u: 0.4891\n",
            "Epoch 59/500\n",
            "38/38 [==============================] - 15s 398ms/step - loss: 0.0053 - mean_io_u: 0.5739 - val_loss: 0.0357 - val_mean_io_u: 0.4899\n",
            "Epoch 60/500\n",
            "38/38 [==============================] - 15s 398ms/step - loss: 0.0051 - mean_io_u: 0.5797 - val_loss: 0.0261 - val_mean_io_u: 0.5142\n",
            "Epoch 61/500\n",
            "38/38 [==============================] - 15s 398ms/step - loss: 0.0051 - mean_io_u: 0.5869 - val_loss: 0.0387 - val_mean_io_u: 0.6051\n",
            "Epoch 62/500\n",
            "38/38 [==============================] - 15s 398ms/step - loss: 0.0050 - mean_io_u: 0.5897 - val_loss: 0.0290 - val_mean_io_u: 0.4635\n",
            "Epoch 63/500\n",
            "38/38 [==============================] - 15s 399ms/step - loss: 0.0048 - mean_io_u: 0.6012 - val_loss: 0.0963 - val_mean_io_u: 0.6272\n",
            "Epoch 64/500\n",
            "38/38 [==============================] - 15s 399ms/step - loss: 0.0047 - mean_io_u: 0.6092 - val_loss: 0.0358 - val_mean_io_u: 0.5850\n",
            "Epoch 65/500\n",
            "38/38 [==============================] - 15s 398ms/step - loss: 0.0046 - mean_io_u: 0.6213 - val_loss: 0.0655 - val_mean_io_u: 0.5666\n",
            "Epoch 66/500\n",
            "38/38 [==============================] - 15s 398ms/step - loss: 0.0045 - mean_io_u: 0.6270 - val_loss: 0.0282 - val_mean_io_u: 0.6136\n",
            "Epoch 67/500\n",
            "38/38 [==============================] - 15s 398ms/step - loss: 0.0047 - mean_io_u: 0.6246 - val_loss: 0.0438 - val_mean_io_u: 0.5544\n",
            "Epoch 68/500\n",
            "38/38 [==============================] - 15s 398ms/step - loss: 0.0046 - mean_io_u: 0.6201 - val_loss: 0.0496 - val_mean_io_u: 0.6375\n",
            "Epoch 69/500\n",
            "38/38 [==============================] - 15s 398ms/step - loss: 0.0044 - mean_io_u: 0.6316 - val_loss: 0.0442 - val_mean_io_u: 0.6121\n",
            "Epoch 70/500\n",
            "38/38 [==============================] - 15s 398ms/step - loss: 0.0044 - mean_io_u: 0.6378 - val_loss: 0.0284 - val_mean_io_u: 0.5171\n",
            "Epoch 71/500\n",
            "38/38 [==============================] - 15s 398ms/step - loss: 0.0044 - mean_io_u: 0.6390 - val_loss: 0.0119 - val_mean_io_u: 0.5626\n",
            "Epoch 72/500\n",
            "38/38 [==============================] - 15s 398ms/step - loss: 0.0042 - mean_io_u: 0.6495 - val_loss: 0.0236 - val_mean_io_u: 0.4863\n",
            "Epoch 73/500\n",
            "38/38 [==============================] - 15s 398ms/step - loss: 0.0043 - mean_io_u: 0.6500 - val_loss: 0.0428 - val_mean_io_u: 0.6303\n",
            "Epoch 74/500\n",
            "38/38 [==============================] - 15s 399ms/step - loss: 0.0042 - mean_io_u: 0.6553 - val_loss: 0.0365 - val_mean_io_u: 0.4798\n",
            "Epoch 75/500\n",
            "38/38 [==============================] - 15s 398ms/step - loss: 0.0047 - mean_io_u: 0.6381 - val_loss: 0.0908 - val_mean_io_u: 0.7184\n",
            "Epoch 76/500\n",
            "38/38 [==============================] - 15s 398ms/step - loss: 0.0050 - mean_io_u: 0.6107 - val_loss: 0.2150 - val_mean_io_u: 0.6981\n",
            "Epoch 77/500\n",
            "38/38 [==============================] - 15s 398ms/step - loss: 0.0048 - mean_io_u: 0.6228 - val_loss: 0.0813 - val_mean_io_u: 0.6844\n",
            "Epoch 78/500\n",
            "38/38 [==============================] - 15s 398ms/step - loss: 0.0044 - mean_io_u: 0.6358 - val_loss: 0.0688 - val_mean_io_u: 0.7886\n",
            "Epoch 79/500\n",
            "38/38 [==============================] - 15s 398ms/step - loss: 0.0043 - mean_io_u: 0.6411 - val_loss: 0.0781 - val_mean_io_u: 0.6427\n",
            "Epoch 80/500\n",
            "38/38 [==============================] - 15s 398ms/step - loss: 0.0042 - mean_io_u: 0.6393 - val_loss: 0.0408 - val_mean_io_u: 0.5355\n",
            "Epoch 81/500\n",
            "38/38 [==============================] - 15s 398ms/step - loss: 0.0040 - mean_io_u: 0.6502 - val_loss: 0.0170 - val_mean_io_u: 0.5432\n",
            "Epoch 82/500\n",
            "38/38 [==============================] - 15s 398ms/step - loss: 0.0039 - mean_io_u: 0.6545 - val_loss: 0.0706 - val_mean_io_u: 0.6286\n",
            "Epoch 83/500\n",
            "38/38 [==============================] - 15s 398ms/step - loss: 0.0039 - mean_io_u: 0.6629 - val_loss: 0.0848 - val_mean_io_u: 0.6326\n",
            "Epoch 84/500\n",
            "38/38 [==============================] - 15s 398ms/step - loss: 0.0037 - mean_io_u: 0.6828 - val_loss: 0.0820 - val_mean_io_u: 0.6501\n",
            "Epoch 85/500\n",
            "38/38 [==============================] - 15s 398ms/step - loss: 0.0037 - mean_io_u: 0.6797 - val_loss: 0.0637 - val_mean_io_u: 0.6022\n",
            "Epoch 86/500\n",
            "38/38 [==============================] - 15s 398ms/step - loss: 0.0037 - mean_io_u: 0.6826 - val_loss: 0.0363 - val_mean_io_u: 0.5691\n",
            "Epoch 87/500\n",
            "38/38 [==============================] - 15s 398ms/step - loss: 0.0037 - mean_io_u: 0.6933 - val_loss: 0.0967 - val_mean_io_u: 0.7877\n",
            "Epoch 88/500\n",
            "38/38 [==============================] - 15s 398ms/step - loss: 0.0036 - mean_io_u: 0.6972 - val_loss: 0.0611 - val_mean_io_u: 0.7725\n",
            "Epoch 89/500\n",
            "38/38 [==============================] - 15s 398ms/step - loss: 0.0036 - mean_io_u: 0.7043 - val_loss: 0.0927 - val_mean_io_u: 0.7145\n",
            "Epoch 90/500\n",
            "38/38 [==============================] - 15s 399ms/step - loss: 0.0037 - mean_io_u: 0.7027 - val_loss: 0.2481 - val_mean_io_u: 0.8162\n",
            "Epoch 91/500\n",
            "38/38 [==============================] - 15s 398ms/step - loss: 0.0040 - mean_io_u: 0.6855 - val_loss: 0.1562 - val_mean_io_u: 0.5115\n",
            "Epoch 92/500\n",
            "38/38 [==============================] - 15s 399ms/step - loss: 0.0045 - mean_io_u: 0.6618 - val_loss: 0.4434 - val_mean_io_u: 0.8077\n",
            "Epoch 93/500\n",
            "38/38 [==============================] - 15s 398ms/step - loss: 0.0040 - mean_io_u: 0.6759 - val_loss: 0.0809 - val_mean_io_u: 0.7718\n",
            "Epoch 94/500\n",
            "38/38 [==============================] - 15s 398ms/step - loss: 0.0038 - mean_io_u: 0.6946 - val_loss: 0.0721 - val_mean_io_u: 0.7211\n",
            "Epoch 95/500\n",
            "38/38 [==============================] - 15s 398ms/step - loss: 0.0037 - mean_io_u: 0.6746 - val_loss: 0.0250 - val_mean_io_u: 0.6096\n",
            "Epoch 96/500\n",
            "38/38 [==============================] - 15s 398ms/step - loss: 0.0035 - mean_io_u: 0.6891 - val_loss: 0.0509 - val_mean_io_u: 0.7404\n",
            "Epoch 97/500\n",
            "38/38 [==============================] - 15s 398ms/step - loss: 0.0036 - mean_io_u: 0.7002 - val_loss: 0.0222 - val_mean_io_u: 0.7000\n",
            "Epoch 98/500\n",
            "38/38 [==============================] - 15s 398ms/step - loss: 0.0035 - mean_io_u: 0.7075 - val_loss: 0.0365 - val_mean_io_u: 0.6911\n",
            "Epoch 99/500\n",
            "38/38 [==============================] - 15s 398ms/step - loss: 0.0036 - mean_io_u: 0.6990 - val_loss: 0.0417 - val_mean_io_u: 0.7502\n",
            "Epoch 100/500\n",
            "38/38 [==============================] - 15s 398ms/step - loss: 0.0036 - mean_io_u: 0.6993 - val_loss: 0.0129 - val_mean_io_u: 0.7004\n",
            "Epoch 101/500\n",
            "38/38 [==============================] - 15s 398ms/step - loss: 0.0282 - mean_io_u: 0.6414 - val_loss: 20.0826 - val_mean_io_u: 0.4628\n",
            "Epoch 102/500\n",
            "38/38 [==============================] - 15s 398ms/step - loss: 0.0835 - mean_io_u: 0.4609 - val_loss: 15.0402 - val_mean_io_u: 0.4628\n",
            "Epoch 103/500\n",
            "38/38 [==============================] - 15s 398ms/step - loss: 0.0365 - mean_io_u: 0.4607 - val_loss: 3.0452 - val_mean_io_u: 0.7040\n",
            "Epoch 104/500\n",
            "38/38 [==============================] - 15s 398ms/step - loss: 0.0230 - mean_io_u: 0.4616 - val_loss: 0.6188 - val_mean_io_u: 0.4946\n",
            "Epoch 105/500\n",
            "38/38 [==============================] - 15s 398ms/step - loss: 0.0197 - mean_io_u: 0.4624 - val_loss: 0.3741 - val_mean_io_u: 0.5241\n",
            "Epoch 106/500\n",
            "38/38 [==============================] - 15s 399ms/step - loss: 0.0144 - mean_io_u: 0.4647 - val_loss: 0.3799 - val_mean_io_u: 0.4628\n",
            "Epoch 107/500\n",
            "38/38 [==============================] - 15s 398ms/step - loss: 0.0125 - mean_io_u: 0.4680 - val_loss: 0.5267 - val_mean_io_u: 0.4628\n",
            "Epoch 108/500\n",
            "38/38 [==============================] - 15s 398ms/step - loss: 0.0096 - mean_io_u: 0.4725 - val_loss: 0.4501 - val_mean_io_u: 0.4628\n",
            "Epoch 109/500\n",
            "38/38 [==============================] - 15s 398ms/step - loss: 0.0091 - mean_io_u: 0.4818 - val_loss: 0.3966 - val_mean_io_u: 0.4628\n",
            "Epoch 110/500\n",
            "38/38 [==============================] - 15s 398ms/step - loss: 0.0099 - mean_io_u: 0.4863 - val_loss: 0.3199 - val_mean_io_u: 0.4667\n",
            "Epoch 111/500\n",
            "38/38 [==============================] - 15s 398ms/step - loss: 0.0088 - mean_io_u: 0.4847 - val_loss: 0.2512 - val_mean_io_u: 0.4635\n",
            "Epoch 112/500\n",
            "38/38 [==============================] - 15s 398ms/step - loss: 0.0084 - mean_io_u: 0.4868 - val_loss: 0.3041 - val_mean_io_u: 0.4628\n",
            "Epoch 113/500\n",
            "38/38 [==============================] - 15s 398ms/step - loss: 0.0069 - mean_io_u: 0.4930 - val_loss: 0.3850 - val_mean_io_u: 0.4628\n",
            "Epoch 114/500\n",
            "38/38 [==============================] - 15s 398ms/step - loss: 0.0069 - mean_io_u: 0.5007 - val_loss: 0.5477 - val_mean_io_u: 0.4628\n",
            "Epoch 115/500\n",
            "38/38 [==============================] - 15s 398ms/step - loss: 0.0063 - mean_io_u: 0.5051 - val_loss: 0.2534 - val_mean_io_u: 0.4660\n",
            "Epoch 116/500\n",
            "38/38 [==============================] - 15s 398ms/step - loss: 0.0062 - mean_io_u: 0.5118 - val_loss: 0.2682 - val_mean_io_u: 0.4637\n",
            "Epoch 117/500\n",
            "38/38 [==============================] - 15s 398ms/step - loss: 0.0060 - mean_io_u: 0.5162 - val_loss: 0.2566 - val_mean_io_u: 0.4647\n",
            "Epoch 118/500\n",
            "38/38 [==============================] - 15s 398ms/step - loss: 0.0061 - mean_io_u: 0.5193 - val_loss: 0.3282 - val_mean_io_u: 0.4629\n",
            "Epoch 119/500\n",
            "38/38 [==============================] - 15s 398ms/step - loss: 0.0061 - mean_io_u: 0.5215 - val_loss: 0.1285 - val_mean_io_u: 0.4631\n",
            "Epoch 120/500\n",
            "38/38 [==============================] - 15s 398ms/step - loss: 0.0059 - mean_io_u: 0.5234 - val_loss: 0.2613 - val_mean_io_u: 0.4756\n",
            "Epoch 121/500\n",
            "38/38 [==============================] - 15s 398ms/step - loss: 0.0059 - mean_io_u: 0.5260 - val_loss: 0.0240 - val_mean_io_u: 0.4768\n",
            "Epoch 122/500\n",
            "38/38 [==============================] - 15s 398ms/step - loss: 0.0058 - mean_io_u: 0.5326 - val_loss: 0.1972 - val_mean_io_u: 0.4637\n",
            "Epoch 123/500\n",
            "38/38 [==============================] - 15s 398ms/step - loss: 0.0051 - mean_io_u: 0.5363 - val_loss: 0.1769 - val_mean_io_u: 0.4634\n",
            "Epoch 124/500\n",
            "38/38 [==============================] - 15s 399ms/step - loss: 0.0050 - mean_io_u: 0.5434 - val_loss: 0.1243 - val_mean_io_u: 0.4674\n",
            "Epoch 125/500\n",
            "38/38 [==============================] - 15s 398ms/step - loss: 0.0049 - mean_io_u: 0.5458 - val_loss: 0.0158 - val_mean_io_u: 0.4787\n",
            "Epoch 126/500\n",
            "38/38 [==============================] - 15s 398ms/step - loss: 0.0050 - mean_io_u: 0.5514 - val_loss: 0.1470 - val_mean_io_u: 0.4703\n",
            "Epoch 127/500\n",
            "38/38 [==============================] - 15s 398ms/step - loss: 0.0048 - mean_io_u: 0.5511 - val_loss: 0.0183 - val_mean_io_u: 0.4719\n",
            "Epoch 128/500\n",
            "38/38 [==============================] - 15s 398ms/step - loss: 0.0045 - mean_io_u: 0.5550 - val_loss: 0.0154 - val_mean_io_u: 0.4734\n",
            "Epoch 129/500\n",
            "38/38 [==============================] - 15s 398ms/step - loss: 0.0045 - mean_io_u: 0.5614 - val_loss: 0.2637 - val_mean_io_u: 0.4628\n",
            "Epoch 130/500\n",
            "38/38 [==============================] - 15s 398ms/step - loss: 0.0046 - mean_io_u: 0.5670 - val_loss: 0.3359 - val_mean_io_u: 0.4628\n",
            "Epoch 131/500\n",
            "38/38 [==============================] - 15s 399ms/step - loss: 0.0046 - mean_io_u: 0.5666 - val_loss: 0.0266 - val_mean_io_u: 0.4642\n",
            "Epoch 132/500\n",
            "38/38 [==============================] - 15s 398ms/step - loss: 0.0045 - mean_io_u: 0.5673 - val_loss: 0.0498 - val_mean_io_u: 0.4741\n",
            "Epoch 133/500\n",
            "38/38 [==============================] - 15s 398ms/step - loss: 0.0042 - mean_io_u: 0.5713 - val_loss: 0.0235 - val_mean_io_u: 0.4919\n",
            "Epoch 134/500\n",
            "38/38 [==============================] - 15s 398ms/step - loss: 0.0041 - mean_io_u: 0.5765 - val_loss: 0.0553 - val_mean_io_u: 0.4696\n",
            "Epoch 135/500\n",
            "38/38 [==============================] - 15s 398ms/step - loss: 0.0042 - mean_io_u: 0.5822 - val_loss: 0.0310 - val_mean_io_u: 0.4737\n",
            "Epoch 136/500\n",
            "38/38 [==============================] - 15s 398ms/step - loss: 0.0042 - mean_io_u: 0.5828 - val_loss: 0.0226 - val_mean_io_u: 0.5083\n",
            "Epoch 137/500\n",
            "38/38 [==============================] - 15s 398ms/step - loss: 0.0041 - mean_io_u: 0.5820 - val_loss: 0.3676 - val_mean_io_u: 0.4628\n",
            "Epoch 138/500\n",
            "38/38 [==============================] - 15s 398ms/step - loss: 0.0042 - mean_io_u: 0.5871 - val_loss: 0.0327 - val_mean_io_u: 0.4665\n",
            "Epoch 139/500\n",
            "38/38 [==============================] - 15s 398ms/step - loss: 0.0042 - mean_io_u: 0.5895 - val_loss: 0.0306 - val_mean_io_u: 0.5124\n",
            "Epoch 140/500\n",
            "38/38 [==============================] - 15s 398ms/step - loss: 0.0041 - mean_io_u: 0.5887 - val_loss: 0.0567 - val_mean_io_u: 0.4637\n",
            "Epoch 141/500\n",
            "38/38 [==============================] - 15s 398ms/step - loss: 0.0039 - mean_io_u: 0.5963 - val_loss: 0.0905 - val_mean_io_u: 0.4645\n",
            "Epoch 142/500\n",
            "38/38 [==============================] - 15s 398ms/step - loss: 0.0038 - mean_io_u: 0.6034 - val_loss: 0.0929 - val_mean_io_u: 0.4647\n",
            "Epoch 143/500\n",
            "38/38 [==============================] - 15s 398ms/step - loss: 0.0039 - mean_io_u: 0.6061 - val_loss: 0.0366 - val_mean_io_u: 0.4903\n",
            "Epoch 144/500\n",
            "38/38 [==============================] - 15s 398ms/step - loss: 0.0041 - mean_io_u: 0.6008 - val_loss: 0.0115 - val_mean_io_u: 0.5687\n",
            "Epoch 145/500\n",
            "38/38 [==============================] - 15s 398ms/step - loss: 0.0041 - mean_io_u: 0.5999 - val_loss: 0.3988 - val_mean_io_u: 0.4628\n",
            "Epoch 146/500\n",
            "38/38 [==============================] - 15s 398ms/step - loss: 0.0039 - mean_io_u: 0.6058 - val_loss: 0.0102 - val_mean_io_u: 0.5512\n",
            "Epoch 147/500\n",
            "38/38 [==============================] - 15s 398ms/step - loss: 0.0038 - mean_io_u: 0.6156 - val_loss: 0.4099 - val_mean_io_u: 0.4628\n",
            "Epoch 148/500\n",
            "38/38 [==============================] - 15s 398ms/step - loss: 0.0038 - mean_io_u: 0.6170 - val_loss: 0.0134 - val_mean_io_u: 0.4780\n",
            "Epoch 149/500\n",
            "38/38 [==============================] - 15s 398ms/step - loss: 0.0039 - mean_io_u: 0.6179 - val_loss: 0.3956 - val_mean_io_u: 0.4628\n",
            "Epoch 150/500\n",
            "38/38 [==============================] - 15s 398ms/step - loss: 0.0038 - mean_io_u: 0.6194 - val_loss: 0.0175 - val_mean_io_u: 0.4836\n",
            "Epoch 151/500\n",
            "38/38 [==============================] - 15s 398ms/step - loss: 0.0037 - mean_io_u: 0.6245 - val_loss: 0.0299 - val_mean_io_u: 0.4684\n",
            "Epoch 152/500\n",
            "38/38 [==============================] - 15s 398ms/step - loss: 0.0036 - mean_io_u: 0.6237 - val_loss: 0.0114 - val_mean_io_u: 0.4995\n",
            "Epoch 153/500\n",
            "38/38 [==============================] - 15s 398ms/step - loss: 0.0037 - mean_io_u: 0.6203 - val_loss: 0.0624 - val_mean_io_u: 0.4679\n",
            "Epoch 154/500\n",
            "38/38 [==============================] - 15s 398ms/step - loss: 0.0036 - mean_io_u: 0.6226 - val_loss: 0.0809 - val_mean_io_u: 0.4656\n",
            "Epoch 155/500\n",
            "38/38 [==============================] - 15s 398ms/step - loss: 0.0037 - mean_io_u: 0.6363 - val_loss: 0.1246 - val_mean_io_u: 0.4628\n",
            "Epoch 156/500\n",
            "38/38 [==============================] - 15s 399ms/step - loss: 0.0038 - mean_io_u: 0.6193 - val_loss: 0.7070 - val_mean_io_u: 0.4628\n",
            "Epoch 157/500\n",
            "38/38 [==============================] - 15s 398ms/step - loss: 0.0043 - mean_io_u: 0.6196 - val_loss: 0.1712 - val_mean_io_u: 0.4628\n",
            "Epoch 158/500\n",
            "38/38 [==============================] - 15s 398ms/step - loss: 0.0038 - mean_io_u: 0.6122 - val_loss: 0.3891 - val_mean_io_u: 0.4629\n",
            "Epoch 159/500\n",
            "38/38 [==============================] - 15s 398ms/step - loss: 0.0036 - mean_io_u: 0.6215 - val_loss: 0.0157 - val_mean_io_u: 0.5039\n",
            "Epoch 160/500\n",
            "38/38 [==============================] - 15s 398ms/step - loss: 0.0036 - mean_io_u: 0.6259 - val_loss: 0.0416 - val_mean_io_u: 0.4807\n",
            "Epoch 161/500\n",
            "38/38 [==============================] - 15s 398ms/step - loss: 0.0036 - mean_io_u: 0.6300 - val_loss: 0.0181 - val_mean_io_u: 0.5030\n",
            "Epoch 162/500\n",
            "38/38 [==============================] - 15s 398ms/step - loss: 0.0036 - mean_io_u: 0.6303 - val_loss: 0.0177 - val_mean_io_u: 0.5102\n",
            "Epoch 163/500\n",
            "38/38 [==============================] - 15s 398ms/step - loss: 0.0035 - mean_io_u: 0.6301 - val_loss: 0.5391 - val_mean_io_u: 0.4628\n",
            "Epoch 164/500\n",
            "38/38 [==============================] - 15s 398ms/step - loss: 0.0036 - mean_io_u: 0.6358 - val_loss: 0.0120 - val_mean_io_u: 0.5410\n",
            "Epoch 165/500\n",
            "38/38 [==============================] - 15s 398ms/step - loss: 0.0034 - mean_io_u: 0.6433 - val_loss: 0.1148 - val_mean_io_u: 0.4651\n",
            "Epoch 166/500\n",
            "38/38 [==============================] - 15s 398ms/step - loss: 0.0034 - mean_io_u: 0.6435 - val_loss: 0.0593 - val_mean_io_u: 0.4686\n",
            "Epoch 167/500\n",
            "38/38 [==============================] - 15s 398ms/step - loss: 0.0033 - mean_io_u: 0.6494 - val_loss: 0.4850 - val_mean_io_u: 0.4628\n",
            "Epoch 168/500\n",
            "38/38 [==============================] - 15s 398ms/step - loss: 0.0033 - mean_io_u: 0.6620 - val_loss: 0.0129 - val_mean_io_u: 0.5040\n",
            "Epoch 169/500\n",
            "38/38 [==============================] - 15s 398ms/step - loss: 0.0032 - mean_io_u: 0.6539 - val_loss: 0.0106 - val_mean_io_u: 0.6082\n",
            "Epoch 170/500\n",
            "38/38 [==============================] - 15s 398ms/step - loss: 0.0032 - mean_io_u: 0.6617 - val_loss: 0.0143 - val_mean_io_u: 0.5280\n",
            "Epoch 171/500\n",
            "38/38 [==============================] - 15s 398ms/step - loss: 0.0032 - mean_io_u: 0.6691 - val_loss: 0.0142 - val_mean_io_u: 0.4808\n",
            "Epoch 172/500\n",
            "38/38 [==============================] - 15s 399ms/step - loss: 0.0031 - mean_io_u: 0.6663 - val_loss: 0.0108 - val_mean_io_u: 0.5600\n",
            "Epoch 173/500\n",
            "38/38 [==============================] - 15s 398ms/step - loss: 0.0033 - mean_io_u: 0.6734 - val_loss: 0.0563 - val_mean_io_u: 0.4789\n",
            "Epoch 174/500\n",
            "38/38 [==============================] - 15s 398ms/step - loss: 0.0038 - mean_io_u: 0.6593 - val_loss: 0.1969 - val_mean_io_u: 0.4628\n",
            "Epoch 175/500\n",
            "38/38 [==============================] - 15s 398ms/step - loss: 0.0040 - mean_io_u: 0.6252 - val_loss: 0.0132 - val_mean_io_u: 0.5241\n",
            "Epoch 176/500\n",
            "38/38 [==============================] - 15s 399ms/step - loss: 0.0036 - mean_io_u: 0.6295 - val_loss: 0.0267 - val_mean_io_u: 0.5229\n",
            "Epoch 177/500\n",
            "38/38 [==============================] - 15s 398ms/step - loss: 0.0039 - mean_io_u: 0.6155 - val_loss: 0.0131 - val_mean_io_u: 0.5605\n",
            "Epoch 178/500\n",
            "38/38 [==============================] - 15s 398ms/step - loss: 0.0034 - mean_io_u: 0.6344 - val_loss: 0.0463 - val_mean_io_u: 0.4802\n",
            "Epoch 179/500\n",
            "38/38 [==============================] - 15s 398ms/step - loss: 0.0034 - mean_io_u: 0.6491 - val_loss: 0.0473 - val_mean_io_u: 0.5124\n",
            "Epoch 180/500\n",
            "38/38 [==============================] - 15s 398ms/step - loss: 0.0032 - mean_io_u: 0.6558 - val_loss: 0.0426 - val_mean_io_u: 0.4985\n",
            "Epoch 181/500\n",
            "38/38 [==============================] - 15s 398ms/step - loss: 0.0031 - mean_io_u: 0.6674 - val_loss: 0.0110 - val_mean_io_u: 0.5642\n",
            "Epoch 182/500\n",
            "38/38 [==============================] - 15s 398ms/step - loss: 0.0031 - mean_io_u: 0.6826 - val_loss: 0.0591 - val_mean_io_u: 0.4721\n",
            "Epoch 183/500\n",
            "38/38 [==============================] - 15s 398ms/step - loss: 0.0030 - mean_io_u: 0.6807 - val_loss: 0.4459 - val_mean_io_u: 0.4628\n",
            "Epoch 184/500\n",
            "38/38 [==============================] - 15s 398ms/step - loss: 0.0031 - mean_io_u: 0.6861 - val_loss: 0.0564 - val_mean_io_u: 0.4753\n",
            "Epoch 185/500\n",
            "38/38 [==============================] - 15s 399ms/step - loss: 0.0030 - mean_io_u: 0.6960 - val_loss: 0.0297 - val_mean_io_u: 0.5016\n",
            "Epoch 186/500\n",
            "38/38 [==============================] - 15s 398ms/step - loss: 0.0030 - mean_io_u: 0.6943 - val_loss: 0.0398 - val_mean_io_u: 0.4876\n",
            "Epoch 187/500\n",
            "38/38 [==============================] - 15s 398ms/step - loss: 0.0030 - mean_io_u: 0.7011 - val_loss: 0.0262 - val_mean_io_u: 0.5651\n",
            "Epoch 188/500\n",
            "38/38 [==============================] - 15s 398ms/step - loss: 0.0030 - mean_io_u: 0.7095 - val_loss: 0.0201 - val_mean_io_u: 0.5793\n",
            "Epoch 189/500\n",
            "38/38 [==============================] - 15s 399ms/step - loss: 0.0029 - mean_io_u: 0.7092 - val_loss: 0.4417 - val_mean_io_u: 0.4649\n",
            "Epoch 190/500\n",
            "38/38 [==============================] - 15s 398ms/step - loss: 0.0029 - mean_io_u: 0.7243 - val_loss: 0.0236 - val_mean_io_u: 0.5886\n",
            "Epoch 191/500\n",
            "38/38 [==============================] - 15s 398ms/step - loss: 0.0030 - mean_io_u: 0.7141 - val_loss: 0.0120 - val_mean_io_u: 0.5802\n",
            "Epoch 192/500\n",
            "38/38 [==============================] - 15s 398ms/step - loss: 0.0030 - mean_io_u: 0.7119 - val_loss: 0.0475 - val_mean_io_u: 0.5116\n",
            "Epoch 193/500\n",
            "38/38 [==============================] - 15s 398ms/step - loss: 0.0030 - mean_io_u: 0.7168 - val_loss: 0.0078 - val_mean_io_u: 0.6689\n",
            "Epoch 194/500\n",
            "38/38 [==============================] - 15s 398ms/step - loss: 0.0030 - mean_io_u: 0.7199 - val_loss: 0.0371 - val_mean_io_u: 0.4934\n",
            "Epoch 195/500\n",
            "38/38 [==============================] - 15s 398ms/step - loss: 0.0029 - mean_io_u: 0.7152 - val_loss: 0.0121 - val_mean_io_u: 0.5714\n",
            "Epoch 196/500\n",
            "38/38 [==============================] - 15s 398ms/step - loss: 0.0030 - mean_io_u: 0.7286 - val_loss: 0.0098 - val_mean_io_u: 0.6403\n",
            "Epoch 197/500\n",
            "38/38 [==============================] - 15s 398ms/step - loss: 0.0030 - mean_io_u: 0.7100 - val_loss: 0.0101 - val_mean_io_u: 0.5905\n",
            "Epoch 198/500\n",
            "38/38 [==============================] - 15s 398ms/step - loss: 0.0030 - mean_io_u: 0.7146 - val_loss: 0.0118 - val_mean_io_u: 0.6152\n",
            "Epoch 199/500\n",
            "38/38 [==============================] - 15s 398ms/step - loss: 0.0030 - mean_io_u: 0.7173 - val_loss: 0.0660 - val_mean_io_u: 0.4647\n",
            "Epoch 200/500\n",
            "38/38 [==============================] - 15s 398ms/step - loss: 0.0031 - mean_io_u: 0.7017 - val_loss: 0.0070 - val_mean_io_u: 0.6452\n",
            "Epoch 201/500\n",
            "38/38 [==============================] - 15s 398ms/step - loss: 0.0029 - mean_io_u: 0.7091 - val_loss: 0.6113 - val_mean_io_u: 0.4639\n",
            "Epoch 202/500\n",
            "38/38 [==============================] - 15s 398ms/step - loss: 0.0029 - mean_io_u: 0.7183 - val_loss: 0.0153 - val_mean_io_u: 0.5449\n",
            "Epoch 203/500\n",
            "38/38 [==============================] - 15s 398ms/step - loss: 0.0029 - mean_io_u: 0.7299 - val_loss: 0.0084 - val_mean_io_u: 0.6276\n",
            "Epoch 204/500\n",
            "38/38 [==============================] - 15s 398ms/step - loss: 0.0028 - mean_io_u: 0.7277 - val_loss: 0.0204 - val_mean_io_u: 0.6099\n",
            "Epoch 205/500\n",
            "38/38 [==============================] - 15s 398ms/step - loss: 0.0028 - mean_io_u: 0.7426 - val_loss: 0.0222 - val_mean_io_u: 0.5765\n",
            "Epoch 206/500\n",
            "38/38 [==============================] - 15s 398ms/step - loss: 0.0028 - mean_io_u: 0.7437 - val_loss: 0.0099 - val_mean_io_u: 0.5890\n",
            "Epoch 207/500\n",
            "38/38 [==============================] - 15s 398ms/step - loss: 0.0028 - mean_io_u: 0.7434 - val_loss: 0.0355 - val_mean_io_u: 0.5205\n",
            "Epoch 208/500\n",
            "38/38 [==============================] - 15s 399ms/step - loss: 0.0028 - mean_io_u: 0.7449 - val_loss: 0.0173 - val_mean_io_u: 0.5830\n",
            "Epoch 209/500\n",
            "38/38 [==============================] - 15s 398ms/step - loss: 0.0027 - mean_io_u: 0.7543 - val_loss: 0.1380 - val_mean_io_u: 0.4788\n",
            "Epoch 210/500\n",
            "38/38 [==============================] - 15s 398ms/step - loss: 0.0028 - mean_io_u: 0.7285 - val_loss: 0.0192 - val_mean_io_u: 0.7925\n",
            "Epoch 211/500\n",
            "38/38 [==============================] - 15s 398ms/step - loss: 0.0030 - mean_io_u: 0.7097 - val_loss: 0.0367 - val_mean_io_u: 0.7426\n",
            "Epoch 212/500\n",
            "38/38 [==============================] - 15s 398ms/step - loss: 0.0030 - mean_io_u: 0.7097 - val_loss: 0.0101 - val_mean_io_u: 0.6107\n",
            "Epoch 213/500\n",
            "38/38 [==============================] - 15s 398ms/step - loss: 0.0028 - mean_io_u: 0.7292 - val_loss: 0.0145 - val_mean_io_u: 0.6492\n",
            "Epoch 214/500\n",
            "38/38 [==============================] - 15s 398ms/step - loss: 0.0027 - mean_io_u: 0.7378 - val_loss: 0.1529 - val_mean_io_u: 0.4697\n",
            "Epoch 215/500\n",
            "38/38 [==============================] - 15s 398ms/step - loss: 0.0027 - mean_io_u: 0.7483 - val_loss: 0.1701 - val_mean_io_u: 0.4670\n",
            "Epoch 216/500\n",
            "38/38 [==============================] - 15s 398ms/step - loss: 0.0028 - mean_io_u: 0.7455 - val_loss: 0.0099 - val_mean_io_u: 0.7665\n",
            "Epoch 217/500\n",
            "38/38 [==============================] - 15s 398ms/step - loss: 0.0028 - mean_io_u: 0.7342 - val_loss: 0.0125 - val_mean_io_u: 0.6535\n",
            "Epoch 218/500\n",
            "38/38 [==============================] - 15s 398ms/step - loss: 0.0027 - mean_io_u: 0.7542 - val_loss: 0.0276 - val_mean_io_u: 0.5335\n",
            "Epoch 219/500\n",
            "38/38 [==============================] - 15s 398ms/step - loss: 0.0026 - mean_io_u: 0.7716 - val_loss: 0.0095 - val_mean_io_u: 0.7546\n",
            "Epoch 220/500\n",
            "38/38 [==============================] - 15s 399ms/step - loss: 0.0027 - mean_io_u: 0.7604 - val_loss: 0.3998 - val_mean_io_u: 0.4645\n",
            "Epoch 221/500\n",
            "38/38 [==============================] - 15s 398ms/step - loss: 0.0028 - mean_io_u: 0.7586 - val_loss: 0.0205 - val_mean_io_u: 0.6138\n",
            "Epoch 222/500\n",
            "38/38 [==============================] - 15s 398ms/step - loss: 0.0239 - mean_io_u: 0.6016 - val_loss: 1.5586 - val_mean_io_u: 0.5383\n",
            "Epoch 223/500\n",
            "38/38 [==============================] - 15s 398ms/step - loss: 0.0268 - mean_io_u: 0.4629 - val_loss: 1.0197 - val_mean_io_u: 0.4628\n",
            "Epoch 224/500\n",
            "38/38 [==============================] - 15s 398ms/step - loss: 0.0086 - mean_io_u: 0.4703 - val_loss: 0.9342 - val_mean_io_u: 0.4628\n",
            "Epoch 225/500\n",
            "38/38 [==============================] - 15s 398ms/step - loss: 0.0062 - mean_io_u: 0.4890 - val_loss: 0.1378 - val_mean_io_u: 0.5621\n",
            "Epoch 226/500\n",
            "38/38 [==============================] - 15s 398ms/step - loss: 0.0049 - mean_io_u: 0.5085 - val_loss: 0.0340 - val_mean_io_u: 0.5304\n",
            "Epoch 227/500\n",
            "38/38 [==============================] - 15s 398ms/step - loss: 0.0042 - mean_io_u: 0.5274 - val_loss: 0.0212 - val_mean_io_u: 0.4923\n",
            "Epoch 228/500\n",
            "38/38 [==============================] - 15s 398ms/step - loss: 0.0040 - mean_io_u: 0.5449 - val_loss: 0.0782 - val_mean_io_u: 0.4647\n",
            "Epoch 229/500\n",
            "38/38 [==============================] - 15s 398ms/step - loss: 0.0040 - mean_io_u: 0.5519 - val_loss: 0.0813 - val_mean_io_u: 0.4640\n",
            "Epoch 230/500\n",
            "38/38 [==============================] - 15s 398ms/step - loss: 0.0037 - mean_io_u: 0.5666 - val_loss: 0.1330 - val_mean_io_u: 0.4628\n",
            "Epoch 231/500\n",
            "38/38 [==============================] - 15s 398ms/step - loss: 0.0035 - mean_io_u: 0.5832 - val_loss: 0.2121 - val_mean_io_u: 0.4629\n",
            "Epoch 232/500\n",
            "38/38 [==============================] - 15s 398ms/step - loss: 0.0034 - mean_io_u: 0.5950 - val_loss: 0.1086 - val_mean_io_u: 0.4628\n",
            "Epoch 233/500\n",
            "38/38 [==============================] - 15s 398ms/step - loss: 0.0033 - mean_io_u: 0.6048 - val_loss: 0.1914 - val_mean_io_u: 0.4628\n",
            "Epoch 234/500\n",
            "38/38 [==============================] - 15s 398ms/step - loss: 0.0033 - mean_io_u: 0.6144 - val_loss: 0.2792 - val_mean_io_u: 0.4628\n",
            "Epoch 235/500\n",
            "38/38 [==============================] - 15s 398ms/step - loss: 0.0031 - mean_io_u: 0.6222 - val_loss: 0.2173 - val_mean_io_u: 0.4628\n",
            "Epoch 236/500\n",
            "38/38 [==============================] - 15s 398ms/step - loss: 0.0032 - mean_io_u: 0.6319 - val_loss: 0.1212 - val_mean_io_u: 0.4628\n",
            "Epoch 237/500\n",
            "38/38 [==============================] - 15s 398ms/step - loss: 0.0031 - mean_io_u: 0.6392 - val_loss: 0.2387 - val_mean_io_u: 0.4628\n",
            "Epoch 238/500\n",
            "38/38 [==============================] - 15s 398ms/step - loss: 0.0030 - mean_io_u: 0.6451 - val_loss: 0.1765 - val_mean_io_u: 0.4628\n",
            "Epoch 239/500\n",
            "38/38 [==============================] - 15s 398ms/step - loss: 0.0030 - mean_io_u: 0.6477 - val_loss: 0.1475 - val_mean_io_u: 0.4628\n",
            "Epoch 240/500\n",
            "38/38 [==============================] - 15s 398ms/step - loss: 0.0030 - mean_io_u: 0.6611 - val_loss: 0.3217 - val_mean_io_u: 0.4628\n",
            "Epoch 241/500\n",
            "38/38 [==============================] - 15s 398ms/step - loss: 0.0030 - mean_io_u: 0.6656 - val_loss: 0.1906 - val_mean_io_u: 0.4628\n",
            "Epoch 242/500\n",
            "38/38 [==============================] - 15s 398ms/step - loss: 0.0030 - mean_io_u: 0.6728 - val_loss: 0.3180 - val_mean_io_u: 0.4628\n",
            "Epoch 243/500\n",
            "38/38 [==============================] - 15s 398ms/step - loss: 0.0030 - mean_io_u: 0.6716 - val_loss: 0.2254 - val_mean_io_u: 0.4628\n",
            "Epoch 244/500\n",
            "38/38 [==============================] - 15s 398ms/step - loss: 0.0029 - mean_io_u: 0.6797 - val_loss: 0.2712 - val_mean_io_u: 0.4628\n",
            "Epoch 245/500\n",
            "38/38 [==============================] - 15s 398ms/step - loss: 0.0029 - mean_io_u: 0.6808 - val_loss: 0.2411 - val_mean_io_u: 0.4628\n",
            "Epoch 246/500\n",
            "38/38 [==============================] - 15s 398ms/step - loss: 0.0028 - mean_io_u: 0.6905 - val_loss: 0.2099 - val_mean_io_u: 0.4628\n",
            "Epoch 247/500\n",
            "38/38 [==============================] - 15s 398ms/step - loss: 0.0029 - mean_io_u: 0.6880 - val_loss: 0.1273 - val_mean_io_u: 0.4628\n",
            "Epoch 248/500\n",
            "38/38 [==============================] - 15s 398ms/step - loss: 0.0029 - mean_io_u: 0.6815 - val_loss: 0.1082 - val_mean_io_u: 0.4628\n",
            "Epoch 249/500\n",
            "38/38 [==============================] - 15s 398ms/step - loss: 0.0028 - mean_io_u: 0.6953 - val_loss: 0.1800 - val_mean_io_u: 0.4634\n",
            "Epoch 250/500\n",
            "38/38 [==============================] - 15s 398ms/step - loss: 0.0027 - mean_io_u: 0.7043 - val_loss: 0.2345 - val_mean_io_u: 0.4628\n",
            "Epoch 251/500\n",
            "38/38 [==============================] - 15s 398ms/step - loss: 0.0027 - mean_io_u: 0.7159 - val_loss: 0.1878 - val_mean_io_u: 0.4628\n",
            "Epoch 252/500\n",
            "38/38 [==============================] - 15s 398ms/step - loss: 0.0027 - mean_io_u: 0.7214 - val_loss: 0.3472 - val_mean_io_u: 0.4628\n",
            "Epoch 253/500\n",
            "38/38 [==============================] - 15s 399ms/step - loss: 0.0027 - mean_io_u: 0.7305 - val_loss: 0.1311 - val_mean_io_u: 0.4679\n",
            "Epoch 254/500\n",
            "38/38 [==============================] - 15s 398ms/step - loss: 0.0027 - mean_io_u: 0.7324 - val_loss: 0.3721 - val_mean_io_u: 0.4628\n",
            "Epoch 255/500\n",
            "38/38 [==============================] - 15s 398ms/step - loss: 0.0026 - mean_io_u: 0.7425 - val_loss: 0.2523 - val_mean_io_u: 0.4628\n",
            "Epoch 256/500\n",
            "38/38 [==============================] - 15s 398ms/step - loss: 0.0027 - mean_io_u: 0.7382 - val_loss: 0.2530 - val_mean_io_u: 0.4628\n",
            "Epoch 257/500\n",
            "38/38 [==============================] - 15s 398ms/step - loss: 0.0026 - mean_io_u: 0.7452 - val_loss: 0.3946 - val_mean_io_u: 0.4628\n",
            "Epoch 258/500\n",
            "38/38 [==============================] - 15s 398ms/step - loss: 0.0026 - mean_io_u: 0.7585 - val_loss: 0.1771 - val_mean_io_u: 0.4684\n",
            "Epoch 259/500\n",
            "38/38 [==============================] - 15s 398ms/step - loss: 0.0026 - mean_io_u: 0.7587 - val_loss: 0.3564 - val_mean_io_u: 0.4630\n",
            "Epoch 260/500\n",
            "38/38 [==============================] - 15s 398ms/step - loss: 0.0026 - mean_io_u: 0.7668 - val_loss: 0.4943 - val_mean_io_u: 0.4628\n",
            "Epoch 261/500\n",
            "38/38 [==============================] - 15s 398ms/step - loss: 0.0026 - mean_io_u: 0.7641 - val_loss: 0.3170 - val_mean_io_u: 0.4628\n",
            "Epoch 262/500\n",
            "38/38 [==============================] - 15s 398ms/step - loss: 0.0026 - mean_io_u: 0.7649 - val_loss: 0.2821 - val_mean_io_u: 0.4628\n",
            "Epoch 263/500\n",
            "38/38 [==============================] - 15s 398ms/step - loss: 0.0025 - mean_io_u: 0.7731 - val_loss: 0.3334 - val_mean_io_u: 0.4628\n",
            "Epoch 264/500\n",
            "38/38 [==============================] - 15s 398ms/step - loss: 0.0025 - mean_io_u: 0.7812 - val_loss: 0.2842 - val_mean_io_u: 0.4628\n",
            "Epoch 265/500\n",
            "38/38 [==============================] - 15s 399ms/step - loss: 0.0025 - mean_io_u: 0.7860 - val_loss: 0.2108 - val_mean_io_u: 0.4643\n",
            "Epoch 266/500\n",
            "38/38 [==============================] - 15s 398ms/step - loss: 0.0025 - mean_io_u: 0.7865 - val_loss: 0.2308 - val_mean_io_u: 0.4628\n",
            "Epoch 267/500\n",
            "38/38 [==============================] - 15s 398ms/step - loss: 0.0025 - mean_io_u: 0.7885 - val_loss: 0.4397 - val_mean_io_u: 0.4630\n",
            "Epoch 268/500\n",
            "38/38 [==============================] - 15s 398ms/step - loss: 0.0025 - mean_io_u: 0.7893 - val_loss: 0.3212 - val_mean_io_u: 0.4628\n",
            "Epoch 269/500\n",
            "38/38 [==============================] - 15s 398ms/step - loss: 0.0025 - mean_io_u: 0.7897 - val_loss: 0.3155 - val_mean_io_u: 0.4659\n",
            "Epoch 270/500\n",
            "38/38 [==============================] - 15s 398ms/step - loss: 0.0025 - mean_io_u: 0.7970 - val_loss: 0.3058 - val_mean_io_u: 0.4631\n",
            "Epoch 271/500\n",
            "38/38 [==============================] - 15s 398ms/step - loss: 0.0025 - mean_io_u: 0.7962 - val_loss: 0.3890 - val_mean_io_u: 0.4631\n",
            "Epoch 272/500\n",
            "38/38 [==============================] - 15s 398ms/step - loss: 0.0027 - mean_io_u: 0.7851 - val_loss: 0.1406 - val_mean_io_u: 0.4643\n",
            "Epoch 273/500\n",
            "38/38 [==============================] - 15s 398ms/step - loss: 0.0025 - mean_io_u: 0.7804 - val_loss: 0.0461 - val_mean_io_u: 0.4900\n",
            "Epoch 274/500\n",
            "38/38 [==============================] - 15s 398ms/step - loss: 0.0025 - mean_io_u: 0.7876 - val_loss: 0.4765 - val_mean_io_u: 0.4628\n",
            "Epoch 275/500\n",
            "38/38 [==============================] - 15s 398ms/step - loss: 0.0024 - mean_io_u: 0.7981 - val_loss: 0.4173 - val_mean_io_u: 0.4628\n",
            "Epoch 276/500\n",
            "38/38 [==============================] - 15s 398ms/step - loss: 0.0024 - mean_io_u: 0.8021 - val_loss: 0.4770 - val_mean_io_u: 0.4628\n",
            "Epoch 277/500\n",
            "38/38 [==============================] - 15s 398ms/step - loss: 0.0024 - mean_io_u: 0.8126 - val_loss: 0.5314 - val_mean_io_u: 0.4628\n",
            "Epoch 278/500\n",
            "38/38 [==============================] - 15s 398ms/step - loss: 0.0024 - mean_io_u: 0.8081 - val_loss: 0.5592 - val_mean_io_u: 0.4628\n",
            "Epoch 279/500\n",
            "38/38 [==============================] - 15s 398ms/step - loss: 0.0024 - mean_io_u: 0.8228 - val_loss: 0.3807 - val_mean_io_u: 0.4628\n",
            "Epoch 280/500\n",
            "38/38 [==============================] - 15s 398ms/step - loss: 0.0023 - mean_io_u: 0.8285 - val_loss: 0.2149 - val_mean_io_u: 0.4640\n",
            "Epoch 281/500\n",
            "38/38 [==============================] - 15s 398ms/step - loss: 0.0024 - mean_io_u: 0.8309 - val_loss: 0.3113 - val_mean_io_u: 0.4632\n",
            "Epoch 282/500\n",
            "38/38 [==============================] - 15s 398ms/step - loss: 0.0024 - mean_io_u: 0.8323 - val_loss: 0.3310 - val_mean_io_u: 0.4653\n",
            "Epoch 283/500\n",
            "38/38 [==============================] - 15s 398ms/step - loss: 0.0024 - mean_io_u: 0.8315 - val_loss: 0.3378 - val_mean_io_u: 0.4645\n",
            "Epoch 284/500\n",
            "38/38 [==============================] - 15s 399ms/step - loss: 0.0023 - mean_io_u: 0.8274 - val_loss: 0.6077 - val_mean_io_u: 0.4628\n",
            "Epoch 285/500\n",
            "38/38 [==============================] - 15s 398ms/step - loss: 0.0023 - mean_io_u: 0.8321 - val_loss: 0.5462 - val_mean_io_u: 0.4628\n",
            "Epoch 286/500\n",
            "38/38 [==============================] - 15s 398ms/step - loss: 0.0023 - mean_io_u: 0.8355 - val_loss: 0.2298 - val_mean_io_u: 0.4668\n",
            "Epoch 287/500\n",
            "38/38 [==============================] - 15s 398ms/step - loss: 0.0024 - mean_io_u: 0.8356 - val_loss: 0.4761 - val_mean_io_u: 0.4628\n",
            "Epoch 288/500\n",
            "38/38 [==============================] - 15s 399ms/step - loss: 0.0024 - mean_io_u: 0.8279 - val_loss: 0.3550 - val_mean_io_u: 0.4638\n",
            "Epoch 289/500\n",
            "38/38 [==============================] - 15s 398ms/step - loss: 0.0023 - mean_io_u: 0.8341 - val_loss: 0.4736 - val_mean_io_u: 0.4630\n",
            "Epoch 290/500\n",
            "38/38 [==============================] - 15s 398ms/step - loss: 0.0026 - mean_io_u: 0.8261 - val_loss: 0.4257 - val_mean_io_u: 0.4628\n",
            "Epoch 291/500\n",
            "38/38 [==============================] - 15s 398ms/step - loss: 0.0281 - mean_io_u: 0.5196 - val_loss: 8.2857 - val_mean_io_u: 0.5942\n",
            "Epoch 292/500\n",
            "38/38 [==============================] - 15s 398ms/step - loss: 0.0100 - mean_io_u: 0.4751 - val_loss: 0.0998 - val_mean_io_u: 0.9018\n",
            "Epoch 293/500\n",
            "38/38 [==============================] - 15s 398ms/step - loss: 0.0062 - mean_io_u: 0.4878 - val_loss: 0.3023 - val_mean_io_u: 0.4648\n",
            "Epoch 294/500\n",
            "38/38 [==============================] - 15s 398ms/step - loss: 0.0047 - mean_io_u: 0.5081 - val_loss: 0.3505 - val_mean_io_u: 0.4628\n",
            "Epoch 295/500\n",
            "38/38 [==============================] - 15s 398ms/step - loss: 0.0041 - mean_io_u: 0.5318 - val_loss: 0.4302 - val_mean_io_u: 0.4628\n",
            "Epoch 296/500\n",
            "38/38 [==============================] - 15s 399ms/step - loss: 0.0038 - mean_io_u: 0.5457 - val_loss: 0.4869 - val_mean_io_u: 0.4628\n",
            "Epoch 297/500\n",
            "38/38 [==============================] - 15s 398ms/step - loss: 0.0037 - mean_io_u: 0.5607 - val_loss: 0.3179 - val_mean_io_u: 0.4628\n",
            "Epoch 298/500\n",
            "38/38 [==============================] - 15s 398ms/step - loss: 0.0035 - mean_io_u: 0.5658 - val_loss: 0.4010 - val_mean_io_u: 0.4628\n",
            "Epoch 299/500\n",
            "38/38 [==============================] - 15s 398ms/step - loss: 0.0034 - mean_io_u: 0.5682 - val_loss: 0.4106 - val_mean_io_u: 0.4628\n",
            "Epoch 300/500\n",
            "38/38 [==============================] - 15s 398ms/step - loss: 0.0032 - mean_io_u: 0.5811 - val_loss: 0.3991 - val_mean_io_u: 0.4628\n",
            "Epoch 301/500\n",
            "38/38 [==============================] - 15s 398ms/step - loss: 0.0031 - mean_io_u: 0.6012 - val_loss: 0.4307 - val_mean_io_u: 0.4628\n",
            "Epoch 302/500\n",
            "38/38 [==============================] - 15s 398ms/step - loss: 0.0031 - mean_io_u: 0.6065 - val_loss: 0.4283 - val_mean_io_u: 0.4628\n",
            "Epoch 303/500\n",
            "38/38 [==============================] - 15s 398ms/step - loss: 0.0030 - mean_io_u: 0.6130 - val_loss: 0.4045 - val_mean_io_u: 0.4628\n",
            "Epoch 304/500\n",
            "38/38 [==============================] - 15s 399ms/step - loss: 0.0029 - mean_io_u: 0.6228 - val_loss: 0.3899 - val_mean_io_u: 0.4628\n",
            "Epoch 305/500\n",
            "38/38 [==============================] - 15s 398ms/step - loss: 0.0029 - mean_io_u: 0.6285 - val_loss: 0.4003 - val_mean_io_u: 0.4628\n",
            "Epoch 306/500\n",
            "38/38 [==============================] - 15s 398ms/step - loss: 0.0028 - mean_io_u: 0.6301 - val_loss: 0.4744 - val_mean_io_u: 0.4628\n",
            "Epoch 307/500\n",
            "38/38 [==============================] - 15s 398ms/step - loss: 0.0028 - mean_io_u: 0.6405 - val_loss: 0.4653 - val_mean_io_u: 0.4628\n",
            "Epoch 308/500\n",
            "38/38 [==============================] - 15s 398ms/step - loss: 0.0028 - mean_io_u: 0.6418 - val_loss: 0.3960 - val_mean_io_u: 0.4628\n",
            "Epoch 309/500\n",
            "38/38 [==============================] - 15s 398ms/step - loss: 0.0027 - mean_io_u: 0.6481 - val_loss: 0.3376 - val_mean_io_u: 0.4628\n",
            "Epoch 310/500\n",
            "38/38 [==============================] - 15s 398ms/step - loss: 0.0027 - mean_io_u: 0.6576 - val_loss: 0.2571 - val_mean_io_u: 0.4628\n",
            "Epoch 311/500\n",
            "38/38 [==============================] - 15s 398ms/step - loss: 0.0026 - mean_io_u: 0.6604 - val_loss: 0.4007 - val_mean_io_u: 0.4628\n",
            "Epoch 312/500\n",
            "38/38 [==============================] - 15s 398ms/step - loss: 0.0026 - mean_io_u: 0.6706 - val_loss: 0.2860 - val_mean_io_u: 0.4628\n",
            "Epoch 313/500\n",
            "38/38 [==============================] - 15s 398ms/step - loss: 0.0027 - mean_io_u: 0.6720 - val_loss: 0.4469 - val_mean_io_u: 0.4628\n",
            "Epoch 314/500\n",
            "38/38 [==============================] - 15s 398ms/step - loss: 0.0026 - mean_io_u: 0.6726 - val_loss: 0.2266 - val_mean_io_u: 0.4628\n",
            "Epoch 315/500\n",
            "38/38 [==============================] - 15s 398ms/step - loss: 0.0025 - mean_io_u: 0.6806 - val_loss: 0.2255 - val_mean_io_u: 0.4628\n",
            "Epoch 316/500\n",
            "38/38 [==============================] - 15s 398ms/step - loss: 0.0026 - mean_io_u: 0.6871 - val_loss: 0.2872 - val_mean_io_u: 0.4628\n",
            "Epoch 317/500\n",
            "38/38 [==============================] - 15s 399ms/step - loss: 0.0025 - mean_io_u: 0.6916 - val_loss: 0.2217 - val_mean_io_u: 0.4628\n",
            "Epoch 318/500\n",
            "38/38 [==============================] - 15s 398ms/step - loss: 0.0025 - mean_io_u: 0.6959 - val_loss: 0.2956 - val_mean_io_u: 0.4628\n",
            "Epoch 319/500\n",
            "38/38 [==============================] - 15s 398ms/step - loss: 0.0025 - mean_io_u: 0.6969 - val_loss: 0.4073 - val_mean_io_u: 0.4628\n",
            "Epoch 320/500\n",
            "38/38 [==============================] - 15s 398ms/step - loss: 0.0025 - mean_io_u: 0.6984 - val_loss: 0.2740 - val_mean_io_u: 0.4628\n",
            "Epoch 321/500\n",
            "38/38 [==============================] - 15s 398ms/step - loss: 0.0025 - mean_io_u: 0.7048 - val_loss: 0.2763 - val_mean_io_u: 0.4628\n",
            "Epoch 322/500\n",
            "38/38 [==============================] - 15s 398ms/step - loss: 0.0024 - mean_io_u: 0.7137 - val_loss: 0.1834 - val_mean_io_u: 0.4628\n",
            "Epoch 323/500\n",
            "38/38 [==============================] - 15s 398ms/step - loss: 0.0024 - mean_io_u: 0.7194 - val_loss: 0.3932 - val_mean_io_u: 0.4628\n",
            "Epoch 324/500\n",
            "38/38 [==============================] - 15s 398ms/step - loss: 0.0024 - mean_io_u: 0.7263 - val_loss: 0.4372 - val_mean_io_u: 0.4628\n",
            "Epoch 325/500\n",
            "38/38 [==============================] - 15s 398ms/step - loss: 0.0024 - mean_io_u: 0.7295 - val_loss: 0.2552 - val_mean_io_u: 0.4630\n",
            "Epoch 326/500\n",
            "38/38 [==============================] - 15s 398ms/step - loss: 0.0024 - mean_io_u: 0.7377 - val_loss: 0.2943 - val_mean_io_u: 0.4629\n",
            "Epoch 327/500\n",
            "38/38 [==============================] - 15s 398ms/step - loss: 0.0024 - mean_io_u: 0.7409 - val_loss: 0.4836 - val_mean_io_u: 0.4628\n",
            "Epoch 328/500\n",
            "38/38 [==============================] - 15s 398ms/step - loss: 0.0024 - mean_io_u: 0.7406 - val_loss: 0.3899 - val_mean_io_u: 0.4632\n",
            "Epoch 329/500\n",
            "38/38 [==============================] - 15s 398ms/step - loss: 0.0024 - mean_io_u: 0.7532 - val_loss: 0.3226 - val_mean_io_u: 0.4631\n",
            "Epoch 330/500\n",
            "38/38 [==============================] - 15s 398ms/step - loss: 0.0024 - mean_io_u: 0.7572 - val_loss: 0.2479 - val_mean_io_u: 0.4632\n",
            "Epoch 331/500\n",
            "38/38 [==============================] - 15s 398ms/step - loss: 0.0023 - mean_io_u: 0.7618 - val_loss: 0.2328 - val_mean_io_u: 0.4634\n",
            "Epoch 332/500\n",
            "38/38 [==============================] - 15s 398ms/step - loss: 0.0024 - mean_io_u: 0.7622 - val_loss: 0.3117 - val_mean_io_u: 0.4639\n",
            "Epoch 333/500\n",
            "38/38 [==============================] - 15s 398ms/step - loss: 0.0023 - mean_io_u: 0.7631 - val_loss: 0.1348 - val_mean_io_u: 0.4754\n",
            "Epoch 334/500\n",
            "38/38 [==============================] - 15s 398ms/step - loss: 0.0023 - mean_io_u: 0.7719 - val_loss: 0.2649 - val_mean_io_u: 0.4632\n",
            "Epoch 335/500\n",
            "38/38 [==============================] - 15s 398ms/step - loss: 0.0023 - mean_io_u: 0.7725 - val_loss: 0.1955 - val_mean_io_u: 0.4719\n",
            "Epoch 336/500\n",
            "38/38 [==============================] - 15s 398ms/step - loss: 0.0023 - mean_io_u: 0.7784 - val_loss: 0.1105 - val_mean_io_u: 0.4669\n",
            "Epoch 337/500\n",
            "38/38 [==============================] - 15s 398ms/step - loss: 0.0023 - mean_io_u: 0.7816 - val_loss: 0.3558 - val_mean_io_u: 0.4644\n",
            "Epoch 338/500\n",
            "38/38 [==============================] - 15s 398ms/step - loss: 0.0024 - mean_io_u: 0.7742 - val_loss: 0.4148 - val_mean_io_u: 0.4634\n",
            "Epoch 339/500\n",
            "38/38 [==============================] - 15s 398ms/step - loss: 0.0023 - mean_io_u: 0.7728 - val_loss: 0.0979 - val_mean_io_u: 0.4745\n",
            "Epoch 340/500\n",
            "38/38 [==============================] - 15s 398ms/step - loss: 0.0023 - mean_io_u: 0.7806 - val_loss: 0.1329 - val_mean_io_u: 0.4738\n",
            "Epoch 341/500\n",
            "38/38 [==============================] - 15s 398ms/step - loss: 0.0023 - mean_io_u: 0.7862 - val_loss: 0.1570 - val_mean_io_u: 0.4688\n",
            "Epoch 342/500\n",
            "38/38 [==============================] - 15s 398ms/step - loss: 0.0023 - mean_io_u: 0.7841 - val_loss: 0.4460 - val_mean_io_u: 0.4629\n",
            "Epoch 343/500\n",
            "38/38 [==============================] - 15s 398ms/step - loss: 0.0023 - mean_io_u: 0.7843 - val_loss: 0.2699 - val_mean_io_u: 0.4707\n",
            "Epoch 344/500\n",
            "38/38 [==============================] - 15s 398ms/step - loss: 0.0023 - mean_io_u: 0.7902 - val_loss: 0.2724 - val_mean_io_u: 0.4656\n",
            "Epoch 345/500\n",
            "38/38 [==============================] - 15s 398ms/step - loss: 0.0023 - mean_io_u: 0.7961 - val_loss: 0.1236 - val_mean_io_u: 0.4760\n",
            "Epoch 346/500\n",
            "38/38 [==============================] - 15s 398ms/step - loss: 0.0023 - mean_io_u: 0.7924 - val_loss: 0.0402 - val_mean_io_u: 0.4813\n",
            "Epoch 347/500\n",
            "38/38 [==============================] - 15s 398ms/step - loss: 0.0024 - mean_io_u: 0.7787 - val_loss: 0.3287 - val_mean_io_u: 0.4628\n",
            "Epoch 348/500\n",
            "38/38 [==============================] - 15s 398ms/step - loss: 0.0025 - mean_io_u: 0.7663 - val_loss: 0.4044 - val_mean_io_u: 0.4632\n",
            "Epoch 349/500\n",
            "38/38 [==============================] - 15s 398ms/step - loss: 0.0024 - mean_io_u: 0.7667 - val_loss: 0.1899 - val_mean_io_u: 0.4706\n",
            "Epoch 350/500\n",
            "38/38 [==============================] - 15s 398ms/step - loss: 0.0023 - mean_io_u: 0.7796 - val_loss: 0.4643 - val_mean_io_u: 0.4845\n",
            "Epoch 351/500\n",
            "38/38 [==============================] - 15s 398ms/step - loss: 0.0023 - mean_io_u: 0.7836 - val_loss: 0.4021 - val_mean_io_u: 0.4632\n",
            "Epoch 352/500\n",
            "38/38 [==============================] - 15s 398ms/step - loss: 0.0023 - mean_io_u: 0.7955 - val_loss: 0.1881 - val_mean_io_u: 0.4673\n",
            "Epoch 353/500\n",
            "38/38 [==============================] - 15s 398ms/step - loss: 0.0022 - mean_io_u: 0.7939 - val_loss: 0.1196 - val_mean_io_u: 0.4697\n",
            "Epoch 354/500\n",
            "38/38 [==============================] - 15s 398ms/step - loss: 0.0022 - mean_io_u: 0.7997 - val_loss: 0.0503 - val_mean_io_u: 0.4991\n",
            "Epoch 355/500\n",
            "38/38 [==============================] - 15s 398ms/step - loss: 0.0022 - mean_io_u: 0.7995 - val_loss: 0.0794 - val_mean_io_u: 0.5064\n",
            "Epoch 356/500\n",
            "38/38 [==============================] - 15s 398ms/step - loss: 0.0022 - mean_io_u: 0.7981 - val_loss: 0.2811 - val_mean_io_u: 0.4658\n",
            "Epoch 357/500\n",
            "38/38 [==============================] - 15s 398ms/step - loss: 0.0022 - mean_io_u: 0.8124 - val_loss: 0.3228 - val_mean_io_u: 0.4671\n",
            "Epoch 358/500\n",
            "38/38 [==============================] - 15s 398ms/step - loss: 0.0022 - mean_io_u: 0.8104 - val_loss: 0.1992 - val_mean_io_u: 0.4758\n",
            "Epoch 359/500\n",
            "38/38 [==============================] - 15s 398ms/step - loss: 0.0023 - mean_io_u: 0.7882 - val_loss: 0.0776 - val_mean_io_u: 0.4987\n",
            "Epoch 360/500\n",
            "38/38 [==============================] - 15s 398ms/step - loss: 0.0022 - mean_io_u: 0.7980 - val_loss: 0.5422 - val_mean_io_u: 0.4629\n",
            "Epoch 361/500\n",
            "38/38 [==============================] - 15s 398ms/step - loss: 0.0022 - mean_io_u: 0.8089 - val_loss: 0.3567 - val_mean_io_u: 0.4672\n",
            "Epoch 362/500\n",
            "38/38 [==============================] - 15s 398ms/step - loss: 0.0022 - mean_io_u: 0.8143 - val_loss: 0.3137 - val_mean_io_u: 0.4700\n",
            "Epoch 363/500\n",
            "38/38 [==============================] - 15s 398ms/step - loss: 0.0022 - mean_io_u: 0.8083 - val_loss: 0.0148 - val_mean_io_u: 0.5257\n",
            "Epoch 364/500\n",
            "38/38 [==============================] - 15s 398ms/step - loss: 0.0022 - mean_io_u: 0.8123 - val_loss: 0.0422 - val_mean_io_u: 0.5421\n",
            "Epoch 365/500\n",
            "38/38 [==============================] - 15s 398ms/step - loss: 0.0024 - mean_io_u: 0.7902 - val_loss: 0.0144 - val_mean_io_u: 0.5706\n",
            "Epoch 366/500\n",
            "38/38 [==============================] - 15s 398ms/step - loss: 0.0022 - mean_io_u: 0.7991 - val_loss: 0.0997 - val_mean_io_u: 0.5398\n",
            "Epoch 367/500\n",
            "38/38 [==============================] - 15s 398ms/step - loss: 0.0023 - mean_io_u: 0.7882 - val_loss: 0.3205 - val_mean_io_u: 0.4682\n",
            "Epoch 368/500\n",
            "38/38 [==============================] - 15s 398ms/step - loss: 0.0023 - mean_io_u: 0.7985 - val_loss: 0.4974 - val_mean_io_u: 0.4628\n",
            "Epoch 369/500\n",
            "38/38 [==============================] - 15s 398ms/step - loss: 0.0023 - mean_io_u: 0.7692 - val_loss: 0.1117 - val_mean_io_u: 0.4847\n",
            "Epoch 370/500\n",
            "38/38 [==============================] - 15s 398ms/step - loss: 0.0022 - mean_io_u: 0.7839 - val_loss: 0.2313 - val_mean_io_u: 0.4663\n",
            "Epoch 371/500\n",
            "38/38 [==============================] - 15s 398ms/step - loss: 0.0024 - mean_io_u: 0.7910 - val_loss: 0.3533 - val_mean_io_u: 0.4650\n",
            "Epoch 372/500\n",
            "38/38 [==============================] - 15s 398ms/step - loss: 0.0023 - mean_io_u: 0.7863 - val_loss: 0.2600 - val_mean_io_u: 0.4766\n",
            "Epoch 373/500\n",
            "38/38 [==============================] - 15s 398ms/step - loss: 0.0022 - mean_io_u: 0.7841 - val_loss: 0.2805 - val_mean_io_u: 0.4657\n",
            "Epoch 374/500\n",
            "38/38 [==============================] - 15s 398ms/step - loss: 0.0022 - mean_io_u: 0.7970 - val_loss: 0.2523 - val_mean_io_u: 0.4752\n",
            "Epoch 375/500\n",
            "38/38 [==============================] - 15s 398ms/step - loss: 0.0021 - mean_io_u: 0.8083 - val_loss: 0.3060 - val_mean_io_u: 0.4663\n",
            "Epoch 376/500\n",
            "38/38 [==============================] - 15s 398ms/step - loss: 0.0021 - mean_io_u: 0.8222 - val_loss: 0.2617 - val_mean_io_u: 0.4998\n",
            "Epoch 377/500\n",
            "38/38 [==============================] - 15s 398ms/step - loss: 0.0021 - mean_io_u: 0.8237 - val_loss: 0.1148 - val_mean_io_u: 0.5235\n",
            "Epoch 378/500\n",
            "38/38 [==============================] - 15s 398ms/step - loss: 0.0021 - mean_io_u: 0.8283 - val_loss: 0.4723 - val_mean_io_u: 0.4638\n",
            "Epoch 379/500\n",
            "38/38 [==============================] - 15s 398ms/step - loss: 0.0021 - mean_io_u: 0.8274 - val_loss: 0.1202 - val_mean_io_u: 0.4959\n",
            "Epoch 380/500\n",
            "38/38 [==============================] - 15s 398ms/step - loss: 0.0021 - mean_io_u: 0.8444 - val_loss: 0.1254 - val_mean_io_u: 0.4932\n",
            "Epoch 381/500\n",
            "38/38 [==============================] - 15s 398ms/step - loss: 0.0021 - mean_io_u: 0.8419 - val_loss: 0.3300 - val_mean_io_u: 0.4744\n",
            "Epoch 382/500\n",
            "38/38 [==============================] - 15s 398ms/step - loss: 0.0021 - mean_io_u: 0.8374 - val_loss: 0.1692 - val_mean_io_u: 0.4910\n",
            "Epoch 383/500\n",
            "38/38 [==============================] - 15s 398ms/step - loss: 0.0021 - mean_io_u: 0.8424 - val_loss: 0.1876 - val_mean_io_u: 0.4969\n",
            "Epoch 384/500\n",
            "38/38 [==============================] - 15s 398ms/step - loss: 0.0021 - mean_io_u: 0.8411 - val_loss: 0.1202 - val_mean_io_u: 0.5040\n",
            "Epoch 385/500\n",
            "38/38 [==============================] - 15s 398ms/step - loss: 0.0021 - mean_io_u: 0.8490 - val_loss: 0.1378 - val_mean_io_u: 0.4933\n",
            "Epoch 386/500\n",
            "38/38 [==============================] - 15s 398ms/step - loss: 0.0021 - mean_io_u: 0.8436 - val_loss: 0.0775 - val_mean_io_u: 0.5082\n",
            "Epoch 387/500\n",
            "38/38 [==============================] - 15s 398ms/step - loss: 0.0023 - mean_io_u: 0.7893 - val_loss: 0.3117 - val_mean_io_u: 0.4693\n",
            "Epoch 388/500\n",
            "38/38 [==============================] - 15s 398ms/step - loss: 0.0023 - mean_io_u: 0.7397 - val_loss: 0.4351 - val_mean_io_u: 0.4628\n",
            "Epoch 389/500\n",
            "38/38 [==============================] - 15s 398ms/step - loss: 0.0023 - mean_io_u: 0.7453 - val_loss: 0.2784 - val_mean_io_u: 0.4683\n",
            "Epoch 390/500\n",
            "38/38 [==============================] - 15s 398ms/step - loss: 0.0022 - mean_io_u: 0.7291 - val_loss: 0.0657 - val_mean_io_u: 0.5044\n",
            "Epoch 391/500\n",
            "38/38 [==============================] - 15s 398ms/step - loss: 0.0021 - mean_io_u: 0.7667 - val_loss: 0.4821 - val_mean_io_u: 0.4631\n",
            "Epoch 392/500\n",
            "38/38 [==============================] - 15s 398ms/step - loss: 0.0021 - mean_io_u: 0.7817 - val_loss: 0.3982 - val_mean_io_u: 0.4675\n",
            "Epoch 393/500\n",
            "38/38 [==============================] - 15s 398ms/step - loss: 0.0022 - mean_io_u: 0.7732 - val_loss: 0.2286 - val_mean_io_u: 0.4749\n",
            "Epoch 394/500\n",
            "38/38 [==============================] - 15s 398ms/step - loss: 0.0021 - mean_io_u: 0.7955 - val_loss: 0.2535 - val_mean_io_u: 0.4802\n",
            "Epoch 395/500\n",
            "38/38 [==============================] - 15s 398ms/step - loss: 0.0021 - mean_io_u: 0.8088 - val_loss: 0.2173 - val_mean_io_u: 0.4753\n",
            "Epoch 396/500\n",
            "38/38 [==============================] - 15s 398ms/step - loss: 0.0020 - mean_io_u: 0.8253 - val_loss: 0.3693 - val_mean_io_u: 0.4699\n",
            "Epoch 397/500\n",
            "38/38 [==============================] - 15s 398ms/step - loss: 0.0020 - mean_io_u: 0.8309 - val_loss: 0.2259 - val_mean_io_u: 0.5202\n",
            "Epoch 398/500\n",
            "38/38 [==============================] - 15s 398ms/step - loss: 0.0020 - mean_io_u: 0.8332 - val_loss: 0.1542 - val_mean_io_u: 0.4808\n",
            "Epoch 399/500\n",
            "38/38 [==============================] - 15s 398ms/step - loss: 0.0020 - mean_io_u: 0.8328 - val_loss: 0.2085 - val_mean_io_u: 0.4798\n",
            "Epoch 400/500\n",
            "38/38 [==============================] - 15s 398ms/step - loss: 0.0020 - mean_io_u: 0.8262 - val_loss: 0.4322 - val_mean_io_u: 0.4634\n",
            "Epoch 401/500\n",
            "38/38 [==============================] - 15s 398ms/step - loss: 0.0020 - mean_io_u: 0.8287 - val_loss: 0.1542 - val_mean_io_u: 0.4875\n",
            "Epoch 402/500\n",
            "38/38 [==============================] - 15s 398ms/step - loss: 0.0020 - mean_io_u: 0.8340 - val_loss: 0.1285 - val_mean_io_u: 0.4886\n",
            "Epoch 403/500\n",
            "38/38 [==============================] - 15s 398ms/step - loss: 0.0020 - mean_io_u: 0.8398 - val_loss: 0.0115 - val_mean_io_u: 0.5714\n",
            "Epoch 404/500\n",
            "38/38 [==============================] - 15s 398ms/step - loss: 0.0020 - mean_io_u: 0.8415 - val_loss: 0.4518 - val_mean_io_u: 0.4672\n",
            "Epoch 405/500\n",
            "38/38 [==============================] - 15s 398ms/step - loss: 0.0020 - mean_io_u: 0.8556 - val_loss: 0.1233 - val_mean_io_u: 0.5157\n",
            "Epoch 406/500\n",
            "38/38 [==============================] - 15s 398ms/step - loss: 0.0020 - mean_io_u: 0.8348 - val_loss: 0.3102 - val_mean_io_u: 0.4785\n",
            "Epoch 407/500\n",
            "38/38 [==============================] - 15s 398ms/step - loss: 0.0020 - mean_io_u: 0.8376 - val_loss: 0.2613 - val_mean_io_u: 0.4871\n",
            "Epoch 408/500\n",
            "38/38 [==============================] - 15s 398ms/step - loss: 0.0020 - mean_io_u: 0.8425 - val_loss: 0.2596 - val_mean_io_u: 0.4916\n",
            "Epoch 409/500\n",
            "38/38 [==============================] - 15s 398ms/step - loss: 0.0021 - mean_io_u: 0.8367 - val_loss: 0.3323 - val_mean_io_u: 0.4704\n",
            "Epoch 410/500\n",
            "38/38 [==============================] - 15s 398ms/step - loss: 0.0020 - mean_io_u: 0.8387 - val_loss: 0.3011 - val_mean_io_u: 0.4628\n",
            "Epoch 411/500\n",
            "38/38 [==============================] - 15s 398ms/step - loss: 0.0024 - mean_io_u: 0.7708 - val_loss: 0.0173 - val_mean_io_u: 0.7196\n",
            "Epoch 412/500\n",
            "38/38 [==============================] - 15s 398ms/step - loss: 0.0023 - mean_io_u: 0.7545 - val_loss: 0.4742 - val_mean_io_u: 0.4636\n",
            "Epoch 413/500\n",
            "38/38 [==============================] - 15s 398ms/step - loss: 0.0023 - mean_io_u: 0.7815 - val_loss: 0.0889 - val_mean_io_u: 0.5021\n",
            "Epoch 414/500\n",
            "38/38 [==============================] - 15s 398ms/step - loss: 0.0024 - mean_io_u: 0.7550 - val_loss: 0.1672 - val_mean_io_u: 0.4648\n",
            "Epoch 415/500\n",
            "38/38 [==============================] - 15s 397ms/step - loss: 0.0025 - mean_io_u: 0.7404 - val_loss: 0.0099 - val_mean_io_u: 0.6435\n",
            "Epoch 416/500\n",
            "38/38 [==============================] - 15s 398ms/step - loss: 0.0033 - mean_io_u: 0.6454 - val_loss: 0.6262 - val_mean_io_u: 0.4628\n",
            "Epoch 417/500\n",
            "38/38 [==============================] - 15s 398ms/step - loss: 0.0027 - mean_io_u: 0.6394 - val_loss: 0.5714 - val_mean_io_u: 0.4628\n",
            "Epoch 418/500\n",
            "38/38 [==============================] - 15s 398ms/step - loss: 0.0077 - mean_io_u: 0.5224 - val_loss: 0.4074 - val_mean_io_u: 0.4630\n",
            "Epoch 419/500\n",
            "38/38 [==============================] - 15s 398ms/step - loss: 0.0049 - mean_io_u: 0.5117 - val_loss: 0.2984 - val_mean_io_u: 0.4628\n",
            "Epoch 420/500\n",
            "38/38 [==============================] - 15s 398ms/step - loss: 0.0029 - mean_io_u: 0.6029 - val_loss: 0.3322 - val_mean_io_u: 0.4629\n",
            "Epoch 421/500\n",
            "38/38 [==============================] - 15s 398ms/step - loss: 0.0025 - mean_io_u: 0.6484 - val_loss: 0.0749 - val_mean_io_u: 0.4655\n",
            "Epoch 422/500\n",
            "38/38 [==============================] - 15s 398ms/step - loss: 0.0024 - mean_io_u: 0.6789 - val_loss: 0.0339 - val_mean_io_u: 0.4695\n",
            "Epoch 423/500\n",
            "38/38 [==============================] - 15s 398ms/step - loss: 0.0023 - mean_io_u: 0.7047 - val_loss: 0.0166 - val_mean_io_u: 0.4762\n",
            "Epoch 424/500\n",
            "38/38 [==============================] - 15s 398ms/step - loss: 0.0023 - mean_io_u: 0.7174 - val_loss: 0.0492 - val_mean_io_u: 0.4665\n",
            "Epoch 425/500\n",
            "38/38 [==============================] - 15s 398ms/step - loss: 0.0022 - mean_io_u: 0.7331 - val_loss: 0.0174 - val_mean_io_u: 0.4800\n",
            "Epoch 426/500\n",
            "38/38 [==============================] - 15s 398ms/step - loss: 0.0022 - mean_io_u: 0.7562 - val_loss: 0.0243 - val_mean_io_u: 0.4775\n",
            "Epoch 427/500\n",
            "38/38 [==============================] - 15s 398ms/step - loss: 0.0022 - mean_io_u: 0.7658 - val_loss: 0.0237 - val_mean_io_u: 0.4915\n",
            "Epoch 428/500\n",
            "38/38 [==============================] - 15s 398ms/step - loss: 0.0021 - mean_io_u: 0.7715 - val_loss: 0.0144 - val_mean_io_u: 0.5378\n",
            "Epoch 429/500\n",
            "38/38 [==============================] - 15s 398ms/step - loss: 0.0021 - mean_io_u: 0.7993 - val_loss: 0.2812 - val_mean_io_u: 0.4661\n",
            "Epoch 430/500\n",
            "38/38 [==============================] - 15s 398ms/step - loss: 0.0021 - mean_io_u: 0.8051 - val_loss: 0.0104 - val_mean_io_u: 0.6963\n",
            "Epoch 431/500\n",
            "38/38 [==============================] - 15s 398ms/step - loss: 0.0020 - mean_io_u: 0.8083 - val_loss: 0.0118 - val_mean_io_u: 0.6194\n",
            "Epoch 432/500\n",
            "38/38 [==============================] - 15s 398ms/step - loss: 0.0020 - mean_io_u: 0.8152 - val_loss: 0.0273 - val_mean_io_u: 0.5399\n",
            "Epoch 433/500\n",
            "38/38 [==============================] - 15s 398ms/step - loss: 0.0020 - mean_io_u: 0.8214 - val_loss: 0.0130 - val_mean_io_u: 0.6770\n",
            "Epoch 434/500\n",
            "38/38 [==============================] - 15s 398ms/step - loss: 0.0020 - mean_io_u: 0.8342 - val_loss: 0.0178 - val_mean_io_u: 0.5850\n",
            "Epoch 435/500\n",
            "38/38 [==============================] - 15s 398ms/step - loss: 0.0020 - mean_io_u: 0.8338 - val_loss: 0.0109 - val_mean_io_u: 0.6967\n",
            "Epoch 436/500\n",
            "38/38 [==============================] - 15s 398ms/step - loss: 0.0020 - mean_io_u: 0.8356 - val_loss: 0.0482 - val_mean_io_u: 0.6353\n",
            "Epoch 437/500\n",
            "38/38 [==============================] - 15s 398ms/step - loss: 0.0021 - mean_io_u: 0.8220 - val_loss: 0.0079 - val_mean_io_u: 0.7019\n",
            "Epoch 438/500\n",
            "38/38 [==============================] - 15s 398ms/step - loss: 0.0020 - mean_io_u: 0.8362 - val_loss: 0.0113 - val_mean_io_u: 0.7662\n",
            "Epoch 439/500\n",
            "38/38 [==============================] - 15s 398ms/step - loss: 0.0020 - mean_io_u: 0.8446 - val_loss: 0.0531 - val_mean_io_u: 0.5146\n",
            "Epoch 440/500\n",
            "38/38 [==============================] - 15s 398ms/step - loss: 0.0020 - mean_io_u: 0.8468 - val_loss: 0.0098 - val_mean_io_u: 0.6361\n",
            "Epoch 441/500\n",
            "38/38 [==============================] - 15s 398ms/step - loss: 0.0020 - mean_io_u: 0.8537 - val_loss: 0.0089 - val_mean_io_u: 0.7388\n",
            "Epoch 442/500\n",
            "38/38 [==============================] - 15s 398ms/step - loss: 0.0019 - mean_io_u: 0.8542 - val_loss: 0.0094 - val_mean_io_u: 0.6697\n",
            "Epoch 443/500\n",
            "38/38 [==============================] - 15s 398ms/step - loss: 0.0019 - mean_io_u: 0.8502 - val_loss: 0.0102 - val_mean_io_u: 0.6314\n",
            "Epoch 444/500\n",
            "38/38 [==============================] - 15s 398ms/step - loss: 0.0019 - mean_io_u: 0.8574 - val_loss: 0.0147 - val_mean_io_u: 0.6389\n",
            "Epoch 445/500\n",
            "38/38 [==============================] - 15s 398ms/step - loss: 0.0019 - mean_io_u: 0.8629 - val_loss: 0.0105 - val_mean_io_u: 0.7262\n",
            "Epoch 446/500\n",
            "38/38 [==============================] - 15s 398ms/step - loss: 0.0019 - mean_io_u: 0.8690 - val_loss: 0.0082 - val_mean_io_u: 0.8266\n",
            "Epoch 447/500\n",
            "38/38 [==============================] - 15s 398ms/step - loss: 0.0019 - mean_io_u: 0.8707 - val_loss: 0.0108 - val_mean_io_u: 0.6824\n",
            "Epoch 448/500\n",
            "38/38 [==============================] - 15s 398ms/step - loss: 0.0019 - mean_io_u: 0.8739 - val_loss: 0.0152 - val_mean_io_u: 0.6861\n",
            "Epoch 449/500\n",
            "38/38 [==============================] - 15s 398ms/step - loss: 0.0019 - mean_io_u: 0.8729 - val_loss: 0.0617 - val_mean_io_u: 0.5415\n",
            "Epoch 450/500\n",
            "38/38 [==============================] - 15s 398ms/step - loss: 0.0019 - mean_io_u: 0.8765 - val_loss: 0.0169 - val_mean_io_u: 0.6823\n",
            "Epoch 451/500\n",
            "38/38 [==============================] - 15s 398ms/step - loss: 0.0019 - mean_io_u: 0.8807 - val_loss: 0.0160 - val_mean_io_u: 0.6481\n",
            "Epoch 452/500\n",
            "38/38 [==============================] - 15s 398ms/step - loss: 0.0018 - mean_io_u: 0.8861 - val_loss: 0.0079 - val_mean_io_u: 0.8341\n",
            "Epoch 453/500\n",
            "38/38 [==============================] - 15s 398ms/step - loss: 0.0019 - mean_io_u: 0.8847 - val_loss: 0.0093 - val_mean_io_u: 0.7555\n",
            "Epoch 454/500\n",
            "38/38 [==============================] - 15s 398ms/step - loss: 0.0019 - mean_io_u: 0.8781 - val_loss: 0.0115 - val_mean_io_u: 0.7344\n",
            "Epoch 455/500\n",
            "38/38 [==============================] - 15s 398ms/step - loss: 0.0018 - mean_io_u: 0.8841 - val_loss: 0.0134 - val_mean_io_u: 0.6987\n",
            "Epoch 456/500\n",
            "38/38 [==============================] - 15s 398ms/step - loss: 0.0019 - mean_io_u: 0.8851 - val_loss: 0.0192 - val_mean_io_u: 0.6307\n",
            "Epoch 457/500\n",
            "38/38 [==============================] - 15s 398ms/step - loss: 0.0021 - mean_io_u: 0.8556 - val_loss: 0.0073 - val_mean_io_u: 0.8490\n",
            "Epoch 458/500\n",
            "38/38 [==============================] - 15s 398ms/step - loss: 0.0021 - mean_io_u: 0.8011 - val_loss: 0.0084 - val_mean_io_u: 0.8694\n",
            "Epoch 459/500\n",
            "38/38 [==============================] - 15s 398ms/step - loss: 0.0019 - mean_io_u: 0.8338 - val_loss: 0.0078 - val_mean_io_u: 0.7925\n",
            "Epoch 460/500\n",
            "38/38 [==============================] - 15s 398ms/step - loss: 0.0019 - mean_io_u: 0.8334 - val_loss: 0.0086 - val_mean_io_u: 0.6823\n",
            "Epoch 461/500\n",
            "38/38 [==============================] - 15s 398ms/step - loss: 0.0018 - mean_io_u: 0.8533 - val_loss: 0.0119 - val_mean_io_u: 0.7630\n",
            "Epoch 462/500\n",
            "38/38 [==============================] - 15s 398ms/step - loss: 0.0018 - mean_io_u: 0.8601 - val_loss: 0.0099 - val_mean_io_u: 0.8421\n",
            "Epoch 463/500\n",
            "38/38 [==============================] - 15s 398ms/step - loss: 0.0018 - mean_io_u: 0.8701 - val_loss: 0.0091 - val_mean_io_u: 0.7437\n",
            "Epoch 464/500\n",
            "38/38 [==============================] - 15s 398ms/step - loss: 0.0018 - mean_io_u: 0.8784 - val_loss: 0.0506 - val_mean_io_u: 0.5598\n",
            "Epoch 465/500\n",
            "38/38 [==============================] - 15s 398ms/step - loss: 0.0018 - mean_io_u: 0.8803 - val_loss: 0.0181 - val_mean_io_u: 0.5524\n",
            "Epoch 466/500\n",
            "38/38 [==============================] - 15s 398ms/step - loss: 0.0018 - mean_io_u: 0.8788 - val_loss: 0.0686 - val_mean_io_u: 0.5405\n",
            "Epoch 467/500\n",
            "38/38 [==============================] - 15s 398ms/step - loss: 0.0018 - mean_io_u: 0.8860 - val_loss: 0.0098 - val_mean_io_u: 0.8104\n",
            "Epoch 468/500\n",
            "38/38 [==============================] - 15s 398ms/step - loss: 0.0018 - mean_io_u: 0.8832 - val_loss: 0.0135 - val_mean_io_u: 0.6895\n",
            "Epoch 469/500\n",
            "38/38 [==============================] - 15s 399ms/step - loss: 0.0018 - mean_io_u: 0.8932 - val_loss: 0.1306 - val_mean_io_u: 0.5168\n",
            "Epoch 470/500\n",
            "38/38 [==============================] - 15s 398ms/step - loss: 0.0018 - mean_io_u: 0.8860 - val_loss: 0.0221 - val_mean_io_u: 0.6152\n",
            "Epoch 471/500\n",
            "38/38 [==============================] - 15s 398ms/step - loss: 0.0018 - mean_io_u: 0.8824 - val_loss: 0.0090 - val_mean_io_u: 0.8049\n",
            "Epoch 472/500\n",
            "38/38 [==============================] - 15s 398ms/step - loss: 0.0018 - mean_io_u: 0.8876 - val_loss: 0.0218 - val_mean_io_u: 0.6317\n",
            "Epoch 473/500\n",
            "38/38 [==============================] - 15s 398ms/step - loss: 0.0018 - mean_io_u: 0.8887 - val_loss: 0.0116 - val_mean_io_u: 0.7064\n",
            "Epoch 474/500\n",
            "38/38 [==============================] - 15s 398ms/step - loss: 0.0018 - mean_io_u: 0.8933 - val_loss: 0.0109 - val_mean_io_u: 0.7320\n",
            "Epoch 475/500\n",
            "38/38 [==============================] - 15s 398ms/step - loss: 0.0018 - mean_io_u: 0.8778 - val_loss: 0.0831 - val_mean_io_u: 0.5588\n",
            "Epoch 476/500\n",
            "38/38 [==============================] - 15s 398ms/step - loss: 0.0019 - mean_io_u: 0.8803 - val_loss: 0.0091 - val_mean_io_u: 0.8157\n",
            "Epoch 477/500\n",
            "38/38 [==============================] - 15s 398ms/step - loss: 0.0018 - mean_io_u: 0.8824 - val_loss: 0.3064 - val_mean_io_u: 0.4910\n",
            "Epoch 478/500\n",
            "38/38 [==============================] - 15s 398ms/step - loss: 0.0018 - mean_io_u: 0.8761 - val_loss: 0.0093 - val_mean_io_u: 0.7626\n",
            "Epoch 479/500\n",
            "38/38 [==============================] - 15s 398ms/step - loss: 0.0018 - mean_io_u: 0.8871 - val_loss: 0.0092 - val_mean_io_u: 0.7671\n",
            "Epoch 480/500\n",
            "38/38 [==============================] - 15s 398ms/step - loss: 0.0018 - mean_io_u: 0.8809 - val_loss: 0.2628 - val_mean_io_u: 0.4985\n",
            "Epoch 481/500\n",
            "38/38 [==============================] - 15s 398ms/step - loss: 0.0018 - mean_io_u: 0.8886 - val_loss: 0.1157 - val_mean_io_u: 0.5442\n",
            "Epoch 482/500\n",
            "38/38 [==============================] - 15s 398ms/step - loss: 0.0018 - mean_io_u: 0.8904 - val_loss: 0.0570 - val_mean_io_u: 0.6093\n",
            "Epoch 483/500\n",
            "38/38 [==============================] - 15s 398ms/step - loss: 0.0018 - mean_io_u: 0.8915 - val_loss: 0.0104 - val_mean_io_u: 0.6823\n",
            "Epoch 484/500\n",
            "38/38 [==============================] - 15s 398ms/step - loss: 0.0018 - mean_io_u: 0.8807 - val_loss: 0.1497 - val_mean_io_u: 0.5308\n",
            "Epoch 485/500\n",
            "38/38 [==============================] - 15s 398ms/step - loss: 0.0017 - mean_io_u: 0.8879 - val_loss: 0.0098 - val_mean_io_u: 0.7621\n",
            "Epoch 486/500\n",
            "38/38 [==============================] - 15s 398ms/step - loss: 0.0018 - mean_io_u: 0.8879 - val_loss: 0.0085 - val_mean_io_u: 0.7994\n",
            "Epoch 487/500\n",
            "38/38 [==============================] - 15s 398ms/step - loss: 0.0018 - mean_io_u: 0.8868 - val_loss: 0.0099 - val_mean_io_u: 0.8333\n",
            "Epoch 488/500\n",
            "38/38 [==============================] - 15s 398ms/step - loss: 0.0018 - mean_io_u: 0.8897 - val_loss: 0.3285 - val_mean_io_u: 0.4918\n",
            "Epoch 489/500\n",
            "38/38 [==============================] - 15s 398ms/step - loss: 0.0017 - mean_io_u: 0.8924 - val_loss: 0.0114 - val_mean_io_u: 0.7304\n",
            "Epoch 490/500\n",
            "38/38 [==============================] - 15s 398ms/step - loss: 0.0017 - mean_io_u: 0.8963 - val_loss: 0.0087 - val_mean_io_u: 0.8602\n",
            "Epoch 491/500\n",
            "38/38 [==============================] - 15s 398ms/step - loss: 0.0018 - mean_io_u: 0.8913 - val_loss: 0.0496 - val_mean_io_u: 0.5660\n",
            "Epoch 492/500\n",
            "38/38 [==============================] - 15s 397ms/step - loss: 0.0017 - mean_io_u: 0.8961 - val_loss: 0.0101 - val_mean_io_u: 0.8308\n",
            "Epoch 493/500\n",
            "38/38 [==============================] - 15s 398ms/step - loss: 0.0017 - mean_io_u: 0.8996 - val_loss: 0.0115 - val_mean_io_u: 0.7060\n",
            "Epoch 494/500\n",
            "38/38 [==============================] - 15s 398ms/step - loss: 0.0018 - mean_io_u: 0.8988 - val_loss: 0.0098 - val_mean_io_u: 0.7798\n",
            "Epoch 495/500\n",
            "38/38 [==============================] - 15s 398ms/step - loss: 0.0020 - mean_io_u: 0.8517 - val_loss: 0.0395 - val_mean_io_u: 0.5323\n",
            "Epoch 496/500\n",
            "38/38 [==============================] - 15s 398ms/step - loss: 0.0018 - mean_io_u: 0.8578 - val_loss: 0.0275 - val_mean_io_u: 0.5874\n",
            "Epoch 497/500\n",
            "38/38 [==============================] - 15s 398ms/step - loss: 0.0018 - mean_io_u: 0.8674 - val_loss: 0.0082 - val_mean_io_u: 0.7657\n",
            "Epoch 498/500\n",
            "38/38 [==============================] - 15s 398ms/step - loss: 0.0018 - mean_io_u: 0.8770 - val_loss: 0.0139 - val_mean_io_u: 0.6783\n",
            "Epoch 499/500\n",
            "38/38 [==============================] - 15s 398ms/step - loss: 0.0018 - mean_io_u: 0.8821 - val_loss: 0.0115 - val_mean_io_u: 0.8045\n",
            "Epoch 500/500\n",
            "38/38 [==============================] - 15s 398ms/step - loss: 0.0018 - mean_io_u: 0.8841 - val_loss: 0.0093 - val_mean_io_u: 0.7905\n"
          ]
        }
      ],
      "source": [
        "with tf.device('/device:GPU:0'):\n",
        "    saved_weight = os.path.join(Path_MODELSAVE, 'dataweights.{epoch:002d}.hdf5')\n",
        "    model_checkpoint = tf.keras.callbacks.ModelCheckpoint(saved_weight,\n",
        "                                       save_weights_only=True,\n",
        "                                       mode='auto',\n",
        "                                       period=50,\n",
        "                                       save_freq='epoch')\n",
        "    tensorboard = tf.keras.callbacks.TensorBoard(log_dir=Path_LOGS,\n",
        "                                            histogram_freq=0,\n",
        "                                            write_graph=True,\n",
        "                                            write_images=True)\n",
        "    csv_logger = tf.keras.callbacks.CSVLogger(f'{Path_LOGS}/keras_log.csv' ,append=True)\n",
        "\n",
        "    model.fit(X_train, y_train, epochs=epochs, batch_size=batch_size, \n",
        "            validation_data=(X_test, y_test), \n",
        "            callbacks=[tensorboard, csv_logger, model_checkpoint])\n",
        "    \n",
        "    #model.save('saved_models/segementation.hdf5')"
      ]
    },
    {
      "cell_type": "code",
      "execution_count": null,
      "metadata": {
        "id": "r8guMIDoMwtT"
      },
      "outputs": [],
      "source": []
    },
    {
      "cell_type": "code",
      "execution_count": null,
      "metadata": {
        "id": "v1kaEkJBaH7G"
      },
      "outputs": [],
      "source": [
        "model_2 = segModel((*input_shape, 1))\n",
        "model_optimizer = Adam(learning_rate=0.002)\n",
        "model_2.compile(optimizer=model_optimizer, loss='binary_crossentropy', metrics=[meaniou])#\n",
        "#model_2.summary()\n",
        "model_2.load_weights('/content/saved_models_mou_05/dataweights.500.hdf5')"
      ]
    },
    {
      "cell_type": "code",
      "execution_count": null,
      "metadata": {
        "id": "yyWynLvGaYOH"
      },
      "outputs": [],
      "source": [
        "test_samples = np.expand_dims(test_samples, axis=-1)"
      ]
    },
    {
      "cell_type": "code",
      "execution_count": null,
      "metadata": {
        "id": "BaRUpAM0d_H5"
      },
      "outputs": [],
      "source": []
    },
    {
      "cell_type": "code",
      "execution_count": null,
      "metadata": {
        "colab": {
          "base_uri": "https://localhost:8080/"
        },
        "id": "lOLDlBWIZuKg",
        "outputId": "1d11977a-fd84-4f43-ea83-575ae31bfbd2"
      },
      "outputs": [
        {
          "name": "stdout",
          "output_type": "stream",
          "text": [
            "(22, 512, 512, 1)\n",
            "(22, 512, 512)\n"
          ]
        }
      ],
      "source": [
        "print(test_samples.shape)\n",
        "print(test_gts.shape)"
      ]
    },
    {
      "cell_type": "code",
      "execution_count": null,
      "metadata": {
        "colab": {
          "base_uri": "https://localhost:8080/",
          "height": 335
        },
        "id": "ugGCtO1zZuyJ",
        "outputId": "fbfe0bcd-614c-4ec7-a58b-cc50ecb013c9"
      },
      "outputs": [
        {
          "data": {
            "text/plain": [
              "Text(0.5, 1.0, 'gt')"
            ]
          },
          "execution_count": 66,
          "metadata": {},
          "output_type": "execute_result"
        },
        {
          "data": {
            "image/png": "[encoded data removed]",
            "text/plain": [
              "<Figure size 720x504 with 2 Axes>"
            ]
          },
          "metadata": {
            "needs_background": "light"
          },
          "output_type": "display_data"
        }
      ],
      "source": [
        "fig = plt.figure(figsize=(10, 7))\n",
        "fig.add_subplot(1, 2, 1)\n",
        "plt.imshow(test_samples[15,:,:,0], cmap='gray')\n",
        "plt.title(\"sample\")\n",
        "fig.add_subplot(1,2, 2)\n",
        "plt.imshow(test_gts[15,:,:], cmap='gray')\n",
        "plt.title(\"gt\")"
      ]
    },
    {
      "cell_type": "code",
      "execution_count": null,
      "metadata": {
        "id": "kvdD3QQeZ7Wc"
      },
      "outputs": [],
      "source": []
    },
    {
      "cell_type": "code",
      "execution_count": null,
      "metadata": {
        "colab": {
          "base_uri": "https://localhost:8080/"
        },
        "id": "TNniPe7IUW04",
        "outputId": "abb03363-bb5a-49d8-b2c0-6afca1144379"
      },
      "outputs": [
        {
          "data": {
            "text/plain": [
              "(1, 512, 512, 1)"
            ]
          },
          "execution_count": 46,
          "metadata": {},
          "output_type": "execute_result"
        }
      ],
      "source": [
        "test_samples[0:1,:,:,0:1].shape"
      ]
    },
    {
      "cell_type": "code",
      "execution_count": null,
      "metadata": {
        "id": "ZlRfnwnzMxPk"
      },
      "outputs": [],
      "source": [
        "pred = model_2.predict(test_samples[15:16,:,:,0:1])"
      ]
    },
    {
      "cell_type": "code",
      "execution_count": null,
      "metadata": {
        "colab": {
          "base_uri": "https://localhost:8080/"
        },
        "id": "n2xPgfdycqmn",
        "outputId": "0b94527e-aea0-4bef-8b3e-86a748c701ce"
      },
      "outputs": [
        {
          "data": {
            "text/plain": [
              "(1, 512, 512, 1)"
            ]
          },
          "execution_count": 62,
          "metadata": {},
          "output_type": "execute_result"
        }
      ],
      "source": [
        "pred.shape"
      ]
    },
    {
      "cell_type": "code",
      "execution_count": null,
      "metadata": {
        "colab": {
          "base_uri": "https://localhost:8080/",
          "height": 286
        },
        "id": "EFtvgwbdcrD2",
        "outputId": "ec09d518-3d76-4cea-8074-afc159e67e48"
      },
      "outputs": [
        {
          "data": {
            "text/plain": [
              "<matplotlib.image.AxesImage at 0x7ef345e8c5e0>"
            ]
          },
          "execution_count": 67,
          "metadata": {},
          "output_type": "execute_result"
        },
        {
          "data": {
            "image/png": "[encoded data removed]",
            "text/plain": [
              "<Figure size 432x288 with 1 Axes>"
            ]
          },
          "metadata": {
            "needs_background": "light"
          },
          "output_type": "display_data"
        }
      ],
      "source": [
        "plt.imshow(pred[0,:,:,0], cmap='gray')"
      ]
    },
    {
      "cell_type": "code",
      "execution_count": null,
      "metadata": {
        "colab": {
          "base_uri": "https://localhost:8080/"
        },
        "id": "WyDYu-fPdwVl",
        "outputId": "e95e614a-1b06-4566-823c-1eda56474884"
      },
      "outputs": [
        {
          "data": {
            "text/plain": [
              "0.6017388"
            ]
          },
          "execution_count": 69,
          "metadata": {},
          "output_type": "execute_result"
        }
      ],
      "source": [
        "m = tf.keras.metrics.MeanIoU(num_classes=2)\n",
        "m.update_state(pred[:,:,:,0], test_gts[15:16,:,:])\n",
        "m.result().numpy()"
      ]
    },
    {
      "cell_type": "code",
      "execution_count": null,
      "metadata": {
        "id": "rY7_mlyUcryi"
      },
      "outputs": [],
      "source": []
    },
    {
      "cell_type": "code",
      "execution_count": null,
      "metadata": {
        "id": "4G5gS7MccsWB"
      },
      "outputs": [],
      "source": []
    },
    {
      "cell_type": "code",
      "execution_count": null,
      "metadata": {
        "colab": {
          "base_uri": "https://localhost:8080/"
        },
        "id": "g-WBCGYFamHQ",
        "outputId": "634137c9-ac6c-412d-fe9a-72f45f49b052"
      },
      "outputs": [
        {
          "data": {
            "text/plain": [
              "(1, 512, 512, 1)"
            ]
          },
          "execution_count": 56,
          "metadata": {},
          "output_type": "execute_result"
        }
      ],
      "source": [
        "y_test.shape\n",
        "test_sample_gt = y_test[29:30,:,:,0:1]\n",
        "test_sample_gt.shape"
      ]
    },
    {
      "cell_type": "code",
      "execution_count": null,
      "metadata": {
        "colab": {
          "base_uri": "https://localhost:8080/"
        },
        "id": "lN5VNa1TZnOj",
        "outputId": "2e9d66a5-6853-41de-c0d2-0acdb0342320"
      },
      "outputs": [
        {
          "data": {
            "text/plain": [
              "(1, 512, 512, 1)"
            ]
          },
          "execution_count": 33,
          "metadata": {},
          "output_type": "execute_result"
        }
      ],
      "source": [
        "pred.shape"
      ]
    },
    {
      "cell_type": "code",
      "execution_count": null,
      "metadata": {
        "colab": {
          "base_uri": "https://localhost:8080/",
          "height": 286
        },
        "id": "_xSLHsyOZ8nB",
        "outputId": "075f6ade-3845-4a81-b164-8ec7d1a4bc80"
      },
      "outputs": [
        {
          "data": {
            "text/plain": [
              "<matplotlib.image.AxesImage at 0x7fadd43aab80>"
            ]
          },
          "execution_count": 53,
          "metadata": {},
          "output_type": "execute_result"
        },
        {
          "data": {
            "image/png": "[encoded data removed]",
            "text/plain": [
              "<Figure size 432x288 with 1 Axes>"
            ]
          },
          "metadata": {
            "needs_background": "light"
          },
          "output_type": "display_data"
        }
      ],
      "source": [
        "import matplotlib.pyplot as plt\n",
        "plt.imshow(test_sample[0,:,:,0], cmap='gray')"
      ]
    },
    {
      "cell_type": "code",
      "execution_count": null,
      "metadata": {
        "colab": {
          "base_uri": "https://localhost:8080/",
          "height": 286
        },
        "id": "sfGZCh7gZh0Q",
        "outputId": "edf4954a-3ff4-4ec4-ad43-40c06735d188"
      },
      "outputs": [
        {
          "data": {
            "text/plain": [
              "<matplotlib.image.AxesImage at 0x7fadd4314e20>"
            ]
          },
          "execution_count": 55,
          "metadata": {},
          "output_type": "execute_result"
        },
        {
          "data": {
            "image/png": "[encoded data removed]",
            "text/plain": [
              "<Figure size 432x288 with 1 Axes>"
            ]
          },
          "metadata": {
            "needs_background": "light"
          },
          "output_type": "display_data"
        }
      ],
      "source": [
        "import matplotlib.pyplot as plt\n",
        "plt.imshow(pred[0,:,:,0], cmap='gray')"
      ]
    },
    {
      "cell_type": "code",
      "execution_count": null,
      "metadata": {
        "colab": {
          "base_uri": "https://localhost:8080/",
          "height": 286
        },
        "id": "8e1R5nlyUmg-",
        "outputId": "860febab-49e8-43ff-99c7-2bae5e0f59af"
      },
      "outputs": [
        {
          "data": {
            "text/plain": [
              "<matplotlib.image.AxesImage at 0x7fadd4345e50>"
            ]
          },
          "execution_count": 57,
          "metadata": {},
          "output_type": "execute_result"
        },
        {
          "data": {
            "image/png": "[encoded data removed]",
            "text/plain": [
              "<Figure size 432x288 with 1 Axes>"
            ]
          },
          "metadata": {
            "needs_background": "light"
          },
          "output_type": "display_data"
        }
      ],
      "source": [
        "import matplotlib.pyplot as plt\n",
        "plt.imshow(test_sample_gt[0,:,:,0], cmap='gray')"
      ]
    },
    {
      "cell_type": "code",
      "execution_count": null,
      "metadata": {
        "id": "irBegFD9UkC4"
      },
      "outputs": [],
      "source": []
    }
  ],
  "metadata": {
    "accelerator": "GPU",
    "colab": {
      "machine_shape": "hm",
      "provenance": []
    },
    "gpuClass": "premium",
    "kernelspec": {
      "display_name": "Python 3",
      "name": "python3"
    },
    "language_info": {
      "name": "python"
    }
  },
  "nbformat": 4,
  "nbformat_minor": 0
}
